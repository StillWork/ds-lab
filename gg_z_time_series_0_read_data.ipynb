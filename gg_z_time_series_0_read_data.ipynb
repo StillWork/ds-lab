{
  "nbformat": 4,
  "nbformat_minor": 0,
  "metadata": {
    "colab": {
      "name": "gg-z-time-series-0-read-data.ipynb",
      "version": "0.3.2",
      "provenance": [],
      "collapsed_sections": [],
      "include_colab_link": true
    },
    "kernelspec": {
      "name": "python3",
      "display_name": "Python 3"
    }
  },
  "cells": [
    {
      "cell_type": "markdown",
      "metadata": {
        "id": "view-in-github",
        "colab_type": "text"
      },
      "source": [
        "<a href=\"https://colab.research.google.com/github/StillWork/ds-lab/blob/master/gg_z_time_series_0_read_data.ipynb\" target=\"_parent\"><img src=\"https://colab.research.google.com/assets/colab-badge.svg\" alt=\"Open In Colab\"/></a>"
      ]
    },
    {
      "metadata": {
        "id": "vJj6WabTzN50",
        "colab_type": "code",
        "colab": {
          "base_uri": "https://localhost:8080/",
          "height": 104
        },
        "outputId": "4fce924f-e036-4529-ba4a-9cfd28a9862f"
      },
      "cell_type": "code",
      "source": [
        "!git clone https://github.com/Azure/RNNForTimeSeriesForecasting.git"
      ],
      "execution_count": 1,
      "outputs": [
        {
          "output_type": "stream",
          "text": [
            "Cloning into 'RNNForTimeSeriesForecasting'...\n",
            "remote: Enumerating objects: 238, done.\u001b[K\n",
            "remote: Total 238 (delta 0), reused 0 (delta 0), pack-reused 238\u001b[K\n",
            "Receiving objects: 100% (238/238), 25.61 MiB | 23.08 MiB/s, done.\n",
            "Resolving deltas: 100% (97/97), done.\n"
          ],
          "name": "stdout"
        }
      ]
    },
    {
      "metadata": {
        "id": "RSD_c97YzQtz",
        "colab_type": "code",
        "colab": {
          "base_uri": "https://localhost:8080/",
          "height": 35
        },
        "outputId": "82253348-afa1-49ce-b16d-5c54da10e713"
      },
      "cell_type": "code",
      "source": [
        "!ls"
      ],
      "execution_count": 2,
      "outputs": [
        {
          "output_type": "stream",
          "text": [
            "RNNForTimeSeriesForecasting  sample_data\n"
          ],
          "name": "stdout"
        }
      ]
    },
    {
      "metadata": {
        "id": "m7S-2_DNzU_Z",
        "colab_type": "code",
        "colab": {}
      },
      "cell_type": "code",
      "source": [
        "!cd RNNForTimeSeriesForecasting/"
      ],
      "execution_count": 0,
      "outputs": []
    },
    {
      "metadata": {
        "id": "Pgnw4K4uzaBb",
        "colab_type": "code",
        "colab": {
          "base_uri": "https://localhost:8080/",
          "height": 328
        },
        "outputId": "a9836264-cc9d-43e3-a5db-8af1965a7c00"
      },
      "cell_type": "code",
      "source": [
        "!ls RNNForTimeSeriesForecasting/"
      ],
      "execution_count": 5,
      "outputs": [
        {
          "output_type": "stream",
          "text": [
            "0_data_setup.ipynb\n",
            "1_time_series_arima.ipynb\n",
            "2_one_step_FF_univariate.ipynb\n",
            "3_one_step_RNN_univariate.ipynb\n",
            "4_multi_step_RNN_vector_output.ipynb\n",
            "5_multi_step_RNN_encoder_decoder_simple.ipynb\n",
            "common\n",
            "data\n",
            "images\n",
            "LICENSE\n",
            "Quiz_multi_step_RNN_encoder_decoder.ipynb\n",
            "Quiz_one_step_RNN_multivariate.ipynb\n",
            "Quiz_weight_initialization.ipynb\n",
            "README.md\n",
            "ReferenceNotebook\n",
            "Requirements.txt\n",
            "scripts\n",
            "Slides\n"
          ],
          "name": "stdout"
        }
      ]
    },
    {
      "metadata": {
        "id": "dZA9Cm0HzhJ4",
        "colab_type": "code",
        "colab": {}
      },
      "cell_type": "code",
      "source": [
        "import os\n",
        "import warnings\n",
        "import matplotlib.pyplot as plt\n",
        "import numpy as np\n",
        "import pandas as pd\n",
        "import datetime as dt\n",
        "import math\n",
        "\n",
        "from pandas.tools.plotting import autocorrelation_plot\n",
        "# from pyramid.arima import auto_arima\n",
        "from statsmodels.tsa.statespace.sarimax import SARIMAX\n",
        "from sklearn.preprocessing import MinMaxScaler\n",
        "from RNNForTimeSeriesForecasting.common.utils import load_data, mape\n",
        "from IPython.display import Image\n",
        "\n",
        "%matplotlib inline\n",
        "pd.options.display.float_format = '{:,.2f}'.format\n",
        "np.set_printoptions(precision=2)\n",
        "warnings.filterwarnings(\"ignore\") # specify to ignore warning messages\n"
      ],
      "execution_count": 0,
      "outputs": []
    },
    {
      "metadata": {
        "id": "7B7LW_hWI2tG",
        "colab_type": "code",
        "colab": {
          "base_uri": "https://localhost:8080/",
          "height": 457
        },
        "outputId": "ec15dcf8-bbfe-4566-e66f-93b2cc09efdb"
      },
      "cell_type": "code",
      "source": [
        "!wget https://bit.ly/2Fj0z2P -O ./data/energy.csv"
      ],
      "execution_count": 41,
      "outputs": [
        {
          "output_type": "stream",
          "text": [
            "--2019-03-17 01:01:57--  https://bit.ly/2Fj0z2P\n",
            "Resolving bit.ly (bit.ly)... 67.199.248.11, 67.199.248.10\n",
            "Connecting to bit.ly (bit.ly)|67.199.248.11|:443... connected.\n",
            "HTTP request sent, awaiting response... 301 Moved Permanently\n",
            "Location: https://www.dropbox.com/s/3to0akhmbhk65ws/energy_3years.csv?dl=1 [following]\n",
            "--2019-03-17 01:01:57--  https://www.dropbox.com/s/3to0akhmbhk65ws/energy_3years.csv?dl=1\n",
            "Resolving www.dropbox.com (www.dropbox.com)... 162.125.8.1, 2620:100:6016:1::a27d:101\n",
            "Connecting to www.dropbox.com (www.dropbox.com)|162.125.8.1|:443... connected.\n",
            "HTTP request sent, awaiting response... 301 Moved Permanently\n",
            "Location: /s/dl/3to0akhmbhk65ws/energy_3years.csv [following]\n",
            "--2019-03-17 01:01:57--  https://www.dropbox.com/s/dl/3to0akhmbhk65ws/energy_3years.csv\n",
            "Reusing existing connection to www.dropbox.com:443.\n",
            "HTTP request sent, awaiting response... 302 Found\n",
            "Location: https://uc33290074caeddbdb209b81bf3a.dl.dropboxusercontent.com/cd/0/get/AdMCpi0jYsBHFcqphXqH43sII0kwYOANTY_n5T-kDR883PjYQ6k1qAVtHvWJGcr7AbVDqkerjEB6TwWP76TUKHd1fAGj8Zk85dg1IF3ImtUP8eFKGEglUx6zsfKdhp1JL90/file?dl=1# [following]\n",
            "--2019-03-17 01:01:57--  https://uc33290074caeddbdb209b81bf3a.dl.dropboxusercontent.com/cd/0/get/AdMCpi0jYsBHFcqphXqH43sII0kwYOANTY_n5T-kDR883PjYQ6k1qAVtHvWJGcr7AbVDqkerjEB6TwWP76TUKHd1fAGj8Zk85dg1IF3ImtUP8eFKGEglUx6zsfKdhp1JL90/file?dl=1\n",
            "Resolving uc33290074caeddbdb209b81bf3a.dl.dropboxusercontent.com (uc33290074caeddbdb209b81bf3a.dl.dropboxusercontent.com)... 162.125.1.6, 2620:100:601b:6::a27d:806\n",
            "Connecting to uc33290074caeddbdb209b81bf3a.dl.dropboxusercontent.com (uc33290074caeddbdb209b81bf3a.dl.dropboxusercontent.com)|162.125.1.6|:443... connected.\n",
            "HTTP request sent, awaiting response... 200 OK\n",
            "Length: 980142 (957K) [application/binary]\n",
            "Saving to: ‘./data/energy.csv’\n",
            "\n",
            "./data/energy.csv   100%[===================>] 957.17K  --.-KB/s    in 0.08s   \n",
            "\n",
            "2019-03-17 01:01:58 (11.4 MB/s) - ‘./data/energy.csv’ saved [980142/980142]\n",
            "\n"
          ],
          "name": "stdout"
        }
      ]
    },
    {
      "metadata": {
        "id": "e7zIaE2kJgeL",
        "colab_type": "code",
        "colab": {
          "base_uri": "https://localhost:8080/",
          "height": 195
        },
        "outputId": "ce7b41b4-e6af-415e-973e-df7b2bf5b398"
      },
      "cell_type": "code",
      "source": [
        "import pandas as pd\n",
        "\n",
        "energy = pd.read_csv('data/energy.csv', parse_dates=['timestamp'])\n",
        "energy.head()"
      ],
      "execution_count": 42,
      "outputs": [
        {
          "output_type": "execute_result",
          "data": {
            "text/html": [
              "<div>\n",
              "<style scoped>\n",
              "    .dataframe tbody tr th:only-of-type {\n",
              "        vertical-align: middle;\n",
              "    }\n",
              "\n",
              "    .dataframe tbody tr th {\n",
              "        vertical-align: top;\n",
              "    }\n",
              "\n",
              "    .dataframe thead th {\n",
              "        text-align: right;\n",
              "    }\n",
              "</style>\n",
              "<table border=\"1\" class=\"dataframe\">\n",
              "  <thead>\n",
              "    <tr style=\"text-align: right;\">\n",
              "      <th></th>\n",
              "      <th>timestamp</th>\n",
              "      <th>load</th>\n",
              "      <th>temp</th>\n",
              "    </tr>\n",
              "  </thead>\n",
              "  <tbody>\n",
              "    <tr>\n",
              "      <th>0</th>\n",
              "      <td>2012-01-01 00:00:00</td>\n",
              "      <td>2,698.00</td>\n",
              "      <td>32.00</td>\n",
              "    </tr>\n",
              "    <tr>\n",
              "      <th>1</th>\n",
              "      <td>2012-01-01 01:00:00</td>\n",
              "      <td>2,558.00</td>\n",
              "      <td>32.67</td>\n",
              "    </tr>\n",
              "    <tr>\n",
              "      <th>2</th>\n",
              "      <td>2012-01-01 02:00:00</td>\n",
              "      <td>2,444.00</td>\n",
              "      <td>30.00</td>\n",
              "    </tr>\n",
              "    <tr>\n",
              "      <th>3</th>\n",
              "      <td>2012-01-01 03:00:00</td>\n",
              "      <td>2,402.00</td>\n",
              "      <td>31.00</td>\n",
              "    </tr>\n",
              "    <tr>\n",
              "      <th>4</th>\n",
              "      <td>2012-01-01 04:00:00</td>\n",
              "      <td>2,403.00</td>\n",
              "      <td>32.00</td>\n",
              "    </tr>\n",
              "  </tbody>\n",
              "</table>\n",
              "</div>"
            ],
            "text/plain": [
              "            timestamp     load  temp\n",
              "0 2012-01-01 00:00:00 2,698.00 32.00\n",
              "1 2012-01-01 01:00:00 2,558.00 32.67\n",
              "2 2012-01-01 02:00:00 2,444.00 30.00\n",
              "3 2012-01-01 03:00:00 2,402.00 31.00\n",
              "4 2012-01-01 04:00:00 2,403.00 32.00"
            ]
          },
          "metadata": {
            "tags": []
          },
          "execution_count": 42
        }
      ]
    },
    {
      "metadata": {
        "id": "Ul4DMnSQJgbw",
        "colab_type": "code",
        "colab": {}
      },
      "cell_type": "code",
      "source": [
        ""
      ],
      "execution_count": 0,
      "outputs": []
    },
    {
      "metadata": {
        "id": "GafAk3UcJgY-",
        "colab_type": "code",
        "colab": {}
      },
      "cell_type": "code",
      "source": [
        ""
      ],
      "execution_count": 0,
      "outputs": []
    },
    {
      "metadata": {
        "id": "ldoRJ4zYJgWq",
        "colab_type": "code",
        "colab": {}
      },
      "cell_type": "code",
      "source": [
        ""
      ],
      "execution_count": 0,
      "outputs": []
    },
    {
      "metadata": {
        "id": "78QvSf-1JgUK",
        "colab_type": "code",
        "colab": {}
      },
      "cell_type": "code",
      "source": [
        ""
      ],
      "execution_count": 0,
      "outputs": []
    },
    {
      "metadata": {
        "id": "BbGzbJpRJgRi",
        "colab_type": "code",
        "colab": {}
      },
      "cell_type": "code",
      "source": [
        ""
      ],
      "execution_count": 0,
      "outputs": []
    },
    {
      "metadata": {
        "id": "JdrwXtEAJgOY",
        "colab_type": "code",
        "colab": {}
      },
      "cell_type": "code",
      "source": [
        ""
      ],
      "execution_count": 0,
      "outputs": []
    },
    {
      "metadata": {
        "id": "Wxi_nHWwJgG2",
        "colab_type": "code",
        "colab": {}
      },
      "cell_type": "code",
      "source": [
        ""
      ],
      "execution_count": 0,
      "outputs": []
    }
  ]
}