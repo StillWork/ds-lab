{
  "nbformat": 4,
  "nbformat_minor": 0,
  "metadata": {
    "colab": {
      "name": "gg-fast-2(참고)-image-santa.ipynb",
      "version": "0.3.2",
      "provenance": [],
      "collapsed_sections": [],
      "include_colab_link": true
    },
    "kernelspec": {
      "display_name": "Python 3",
      "language": "python",
      "name": "python3"
    }
  },
  "cells": [
    {
      "cell_type": "markdown",
      "metadata": {
        "id": "view-in-github",
        "colab_type": "text"
      },
      "source": [
        "<a href=\"https://colab.research.google.com/github/StillWork/ds-lab/blob/master/gg_fast_2(%EC%B0%B8%EA%B3%A0)_image_santa.ipynb\" target=\"_parent\"><img src=\"https://colab.research.google.com/assets/colab-badge.svg\" alt=\"Open In Colab\"/></a>"
      ]
    },
    {
      "metadata": {
        "id": "sd80lEo95nK7",
        "colab_type": "text"
      },
      "cell_type": "markdown",
      "source": [
        "# 구글 이미지 다운로드"
      ]
    },
    {
      "metadata": {
        "id": "qdeTV0qp5nK8",
        "colab_type": "code",
        "outputId": "dd61bc95-c5ea-4b79-c824-fdfbc0635001",
        "colab": {}
      },
      "cell_type": "code",
      "source": [
        "## js_console.js 구글 이미지 다운로드용 js\n",
        "'''\n",
        "// pull down jquery into the JavaScript console\n",
        "var script = document.createElement('script');\n",
        "script.src = \"https://ajax.googleapis.com/ajax/libs/jquery/2.2.0/jquery.min.js\";\n",
        "document.getElementsByTagName('head')[0].appendChild(script);\n",
        "\n",
        "// grab the URLs\n",
        "var urls = $('.rg_di .rg_meta').map(function() { return JSON.parse($(this).text()).ou; });\n",
        "\n",
        "// write the URls to file (one per line)\n",
        "var textToSave = urls.toArray().join('\\n');\n",
        "var hiddenElement = document.createElement('a');\n",
        "hiddenElement.href = 'data:attachment/text,' + encodeURI(textToSave);\n",
        "hiddenElement.target = '_blank';\n",
        "hiddenElement.download = 'urls.txt';\n",
        "hiddenElement.click();\n",
        "'''"
      ],
      "execution_count": 0,
      "outputs": [
        {
          "output_type": "execute_result",
          "data": {
            "text/plain": [
              "'\\n// pull down jquery into the JavaScript console\\nvar script = document.createElement(\\'script\\');\\nscript.src = \"https://ajax.googleapis.com/ajax/libs/jquery/2.2.0/jquery.min.js\";\\ndocument.getElementsByTagName(\\'head\\')[0].appendChild(script);\\n\\n// grab the URLs\\nvar urls = $(\\'.rg_di .rg_meta\\').map(function() { return JSON.parse($(this).text()).ou; });\\n\\n// write the URls to file (one per line)\\nvar textToSave = urls.toArray().join(\\'\\n\\');\\nvar hiddenElement = document.createElement(\\'a\\');\\nhiddenElement.href = \\'data:attachment/text,\\' + encodeURI(textToSave);\\nhiddenElement.target = \\'_blank\\';\\nhiddenElement.download = \\'urls.txt\\';\\nhiddenElement.click();\\n'"
            ]
          },
          "metadata": {
            "tags": []
          },
          "execution_count": 4
        }
      ]
    },
    {
      "metadata": {
        "id": "YPODQbY_5pYV",
        "colab_type": "code",
        "outputId": "08d9a664-d45d-488a-92bf-c7fa59dc8eb0",
        "colab": {
          "resources": {
            "http://localhost:8080/nbextensions/google.colab/files.js": {
              "data": "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",
              "ok": true,
              "headers": [
                [
                  "content-type",
                  "application/javascript"
                ]
              ],
              "status": 200,
              "status_text": ""
            }
          },
          "base_uri": "https://localhost:8080/",
          "height": 88
        }
      },
      "cell_type": "code",
      "source": [
        "from google.colab import files\n",
        "\n",
        "uploaded = files.upload()\n",
        "\n",
        "for fn in uploaded.keys():\n",
        "  print('User uploaded file \"{name}\" with length {length} bytes'.format(\n",
        "      name=fn, length=len(uploaded[fn])))"
      ],
      "execution_count": 0,
      "outputs": [
        {
          "output_type": "display_data",
          "data": {
            "text/html": [
              "\n",
              "     <input type=\"file\" id=\"files-0b889716-45d6-4083-8d96-f35918c2ae60\" name=\"files[]\" multiple disabled />\n",
              "     <output id=\"result-0b889716-45d6-4083-8d96-f35918c2ae60\">\n",
              "      Upload widget is only available when the cell has been executed in the\n",
              "      current browser session. Please rerun this cell to enable.\n",
              "      </output>\n",
              "      <script src=\"/nbextensions/google.colab/files.js\"></script> "
            ],
            "text/plain": [
              "<IPython.core.display.HTML object>"
            ]
          },
          "metadata": {
            "tags": []
          }
        },
        {
          "output_type": "stream",
          "text": [
            "Saving urls.txt to urls.txt\n",
            "User uploaded file \"urls.txt\" with length 19895 bytes\n"
          ],
          "name": "stdout"
        }
      ]
    },
    {
      "metadata": {
        "id": "QOdwvOHB5zGO",
        "colab_type": "code",
        "outputId": "01e969d7-623b-43fb-ab34-632fe9893151",
        "colab": {
          "base_uri": "https://localhost:8080/",
          "height": 34
        }
      },
      "cell_type": "code",
      "source": [
        "!ls"
      ],
      "execution_count": 0,
      "outputs": [
        {
          "output_type": "stream",
          "text": [
            "sample_data  urls.txt\n"
          ],
          "name": "stdout"
        }
      ]
    },
    {
      "metadata": {
        "id": "WvuPF82A6AeJ",
        "colab_type": "code",
        "colab": {}
      },
      "cell_type": "code",
      "source": [
        "!mkdir images/santa"
      ],
      "execution_count": 0,
      "outputs": []
    },
    {
      "metadata": {
        "id": "t3B7BbAk6Fzk",
        "colab_type": "code",
        "outputId": "3582e8f1-1c2e-4647-d98a-ecc9f90a39f6",
        "colab": {
          "base_uri": "https://localhost:8080/",
          "height": 34
        }
      },
      "cell_type": "code",
      "source": [
        "!ls images/\n"
      ],
      "execution_count": 0,
      "outputs": [
        {
          "output_type": "stream",
          "text": [
            "santa\n"
          ],
          "name": "stdout"
        }
      ]
    },
    {
      "metadata": {
        "id": "LEp2GEMF5nLB",
        "colab_type": "code",
        "outputId": "bb741c70-71e4-408b-b376-27cead38304a",
        "colab": {}
      },
      "cell_type": "code",
      "source": [
        "!pip install imutils"
      ],
      "execution_count": 0,
      "outputs": [
        {
          "output_type": "stream",
          "text": [
            "Collecting imutils\n",
            "  Downloading https://files.pythonhosted.org/packages/5e/0c/659c2bdae8e8ca5ef810b9da02db28feaa29ea448ff36b65a1664ff28142/imutils-0.5.2.tar.gz\n",
            "Building wheels for collected packages: imutils\n",
            "  Building wheel for imutils (setup.py) ... \u001b[?25ldone\n",
            "\u001b[?25h  Stored in directory: /Users/hwa-jongkim/Library/Caches/pip/wheels/b2/40/59/139d450e68847ef2f27d876d527b13389dac23df0f66526b5d\n",
            "Successfully built imutils\n",
            "Installing collected packages: imutils\n",
            "Successfully installed imutils-0.5.2\n"
          ],
          "name": "stdout"
        }
      ]
    },
    {
      "metadata": {
        "id": "pH_-PHos5nLF",
        "colab_type": "code",
        "outputId": "108b9b5b-32ff-470a-eb34-52bf67ac737a",
        "colab": {}
      },
      "cell_type": "code",
      "source": [
        "!pip install requests"
      ],
      "execution_count": 0,
      "outputs": [
        {
          "output_type": "stream",
          "text": [
            "Requirement already satisfied: requests in /Users/hwa-jongkim/anaconda3/lib/python3.6/site-packages (2.19.1)\n",
            "Requirement already satisfied: chardet<3.1.0,>=3.0.2 in /Users/hwa-jongkim/anaconda3/lib/python3.6/site-packages (from requests) (3.0.4)\n",
            "Requirement already satisfied: certifi>=2017.4.17 in /Users/hwa-jongkim/anaconda3/lib/python3.6/site-packages (from requests) (2018.8.24)\n",
            "Requirement already satisfied: urllib3<1.24,>=1.21.1 in /Users/hwa-jongkim/anaconda3/lib/python3.6/site-packages (from requests) (1.23)\n",
            "Requirement already satisfied: idna<2.8,>=2.5 in /Users/hwa-jongkim/anaconda3/lib/python3.6/site-packages (from requests) (2.7)\n"
          ],
          "name": "stdout"
        }
      ]
    },
    {
      "metadata": {
        "id": "4C1y-IkA5nLI",
        "colab_type": "code",
        "outputId": "57265707-242f-4718-d4c2-d33a4539a882",
        "colab": {}
      },
      "cell_type": "code",
      "source": [
        "!pip install opencv-python"
      ],
      "execution_count": 0,
      "outputs": [
        {
          "output_type": "stream",
          "text": [
            "Collecting opencv-python\n",
            "\u001b[?25l  Downloading https://files.pythonhosted.org/packages/52/96/2fcb50d675928643edd9cc4ed39cdf92985abb742263980ee2cdd611cb24/opencv_python-4.0.0.21-cp36-cp36m-macosx_10_6_x86_64.macosx_10_9_intel.macosx_10_9_x86_64.macosx_10_10_intel.macosx_10_10_x86_64.whl (39.7MB)\n",
            "\u001b[K    100% |████████████████████████████████| 39.7MB 806kB/s eta 0:00:01    42% |█████████████▋                  | 16.9MB 19.4MB/s eta 0:00:02    50% |████████████████▏               | 20.1MB 11.4MB/s eta 0:00:02    88% |████████████████████████████▍   | 35.2MB 2.5MB/s eta 0:00:02\n",
            "\u001b[?25hRequirement already satisfied: numpy>=1.11.3 in /Users/hwa-jongkim/anaconda3/lib/python3.6/site-packages (from opencv-python) (1.16.2)\n",
            "Installing collected packages: opencv-python\n",
            "Successfully installed opencv-python-4.0.0.21\n"
          ],
          "name": "stdout"
        }
      ]
    },
    {
      "metadata": {
        "id": "-bVnVJ0k5nLL",
        "colab_type": "code",
        "colab": {}
      },
      "cell_type": "code",
      "source": [
        "# USAGE\n",
        "# python download_images.py --urls urls.txt --output images/santa\n",
        "\n",
        "# import the necessary packages\n",
        "from imutils import paths\n",
        "import argparse\n",
        "import requests\n",
        "import cv2\n",
        "import os\n",
        "\n",
        "# construct the argument parse and parse the arguments\n",
        "# ap = argparse.ArgumentParser()\n",
        "# ap.add_argument(\"-u\", \"--urls\", required=True,\n",
        "# \thelp=\"path to file containing image URLs\")\n",
        "# ap.add_argument(\"-o\", \"--output\", required=True,\n",
        "# \thelp=\"path to output directory of images\")\n",
        "# args = vars(ap.parse_args())\n",
        "\n",
        "# grab the list of URLs from the input file, then initialize the\n",
        "# total number of images downloaded thus far\n",
        "# rows = open(args[\"urls\"]).read().strip().split(\"\\n\")\n",
        "rows = open('./urls.txt').read().strip().split(\"\\n\")\n",
        "total = 0"
      ],
      "execution_count": 0,
      "outputs": []
    },
    {
      "metadata": {
        "id": "jPc7_j6h5nLO",
        "colab_type": "code",
        "outputId": "bcb5f47f-0f1f-40c7-c08b-82518cc21c3c",
        "colab": {
          "base_uri": "https://localhost:8080/",
          "height": 3825
        }
      },
      "cell_type": "code",
      "source": [
        "# loop the URLs\n",
        "for url in rows:\n",
        "\ttry:\n",
        "\t\t# try to download the image\n",
        "\t\tr = requests.get(url, timeout=60)\n",
        "\n",
        "\t\t# save the image to disk\n",
        "\t\tp = os.path.sep.join(['./images/santa', \"{}.jpg\".format(\n",
        "\t\t\tstr(total).zfill(8))])\n",
        "\t\tf = open(p, \"wb\")\n",
        "\t\tf.write(r.content)\n",
        "\t\tf.close()\n",
        "\n",
        "\t\t# update the counter\n",
        "\t\tprint(\"[INFO] downloaded: {}\".format(p))\n",
        "\t\ttotal += 1\n",
        "\n",
        "\t# handle if any exceptions are thrown during the download process\n",
        "\texcept:\n",
        "\t\tprint(\"[INFO] error downloading {}...skipping\".format(p))\n",
        "\n",
        "# loop over the image paths we just downloaded\n",
        "for imagePath in paths.list_images('./images/santa'):\n",
        "\t# initialize if the image should be deleted or not\n",
        "\tdelete = False\n",
        "\n",
        "\t# try to load the image\n",
        "\ttry:\n",
        "\t\timage = cv2.imread(imagePath)\n",
        "\n",
        "\t\t# if the image is `None` then we could not properly load it\n",
        "\t\t# from disk, so delete it\n",
        "\t\tif image is None:\n",
        "\t\t\tprint(\"None\")\n",
        "\t\t\tdelete = True\n",
        "\n",
        "\t# if OpenCV cannot load the image then the image is likely\n",
        "\t# corrupt so we should delete it\n",
        "\texcept:\n",
        "\t\tprint(\"Except\")\n",
        "\t\tdelete = True\n",
        "\n",
        "\t# check to see if the image should be deleted\n",
        "\tif delete:\n",
        "\t\tprint(\"[INFO] deleting {}\".format(imagePath))\n",
        "\t\tos.remove(imagePath)"
      ],
      "execution_count": 0,
      "outputs": [
        {
          "output_type": "stream",
          "text": [
            "[INFO] downloaded: ./images/santa/00000000.jpg\n",
            "[INFO] downloaded: ./images/santa/00000001.jpg\n",
            "[INFO] downloaded: ./images/santa/00000002.jpg\n",
            "[INFO] downloaded: ./images/santa/00000003.jpg\n",
            "[INFO] downloaded: ./images/santa/00000004.jpg\n",
            "[INFO] downloaded: ./images/santa/00000005.jpg\n",
            "[INFO] downloaded: ./images/santa/00000006.jpg\n",
            "[INFO] downloaded: ./images/santa/00000007.jpg\n",
            "[INFO] downloaded: ./images/santa/00000008.jpg\n",
            "[INFO] downloaded: ./images/santa/00000009.jpg\n",
            "[INFO] downloaded: ./images/santa/00000010.jpg\n",
            "[INFO] downloaded: ./images/santa/00000011.jpg\n",
            "[INFO] downloaded: ./images/santa/00000012.jpg\n",
            "[INFO] downloaded: ./images/santa/00000013.jpg\n",
            "[INFO] downloaded: ./images/santa/00000014.jpg\n",
            "[INFO] downloaded: ./images/santa/00000015.jpg\n",
            "[INFO] downloaded: ./images/santa/00000016.jpg\n",
            "[INFO] downloaded: ./images/santa/00000017.jpg\n",
            "[INFO] downloaded: ./images/santa/00000018.jpg\n",
            "[INFO] downloaded: ./images/santa/00000019.jpg\n",
            "[INFO] downloaded: ./images/santa/00000020.jpg\n",
            "[INFO] downloaded: ./images/santa/00000021.jpg\n",
            "[INFO] downloaded: ./images/santa/00000022.jpg\n",
            "[INFO] downloaded: ./images/santa/00000023.jpg\n",
            "[INFO] downloaded: ./images/santa/00000024.jpg\n",
            "[INFO] downloaded: ./images/santa/00000025.jpg\n",
            "[INFO] downloaded: ./images/santa/00000026.jpg\n",
            "[INFO] downloaded: ./images/santa/00000027.jpg\n",
            "[INFO] downloaded: ./images/santa/00000028.jpg\n",
            "[INFO] downloaded: ./images/santa/00000029.jpg\n",
            "[INFO] downloaded: ./images/santa/00000030.jpg\n",
            "[INFO] downloaded: ./images/santa/00000031.jpg\n",
            "[INFO] downloaded: ./images/santa/00000032.jpg\n",
            "[INFO] downloaded: ./images/santa/00000033.jpg\n",
            "[INFO] downloaded: ./images/santa/00000034.jpg\n",
            "[INFO] downloaded: ./images/santa/00000035.jpg\n",
            "[INFO] downloaded: ./images/santa/00000036.jpg\n",
            "[INFO] downloaded: ./images/santa/00000037.jpg\n",
            "[INFO] downloaded: ./images/santa/00000038.jpg\n",
            "[INFO] downloaded: ./images/santa/00000039.jpg\n",
            "[INFO] downloaded: ./images/santa/00000040.jpg\n",
            "[INFO] downloaded: ./images/santa/00000041.jpg\n",
            "[INFO] downloaded: ./images/santa/00000042.jpg\n",
            "[INFO] downloaded: ./images/santa/00000043.jpg\n",
            "[INFO] downloaded: ./images/santa/00000044.jpg\n",
            "[INFO] downloaded: ./images/santa/00000045.jpg\n",
            "[INFO] downloaded: ./images/santa/00000046.jpg\n",
            "[INFO] downloaded: ./images/santa/00000047.jpg\n",
            "[INFO] downloaded: ./images/santa/00000048.jpg\n",
            "[INFO] downloaded: ./images/santa/00000049.jpg\n",
            "[INFO] downloaded: ./images/santa/00000050.jpg\n",
            "[INFO] downloaded: ./images/santa/00000051.jpg\n",
            "[INFO] downloaded: ./images/santa/00000052.jpg\n",
            "[INFO] downloaded: ./images/santa/00000053.jpg\n",
            "[INFO] downloaded: ./images/santa/00000054.jpg\n",
            "[INFO] downloaded: ./images/santa/00000055.jpg\n",
            "[INFO] downloaded: ./images/santa/00000056.jpg\n",
            "[INFO] downloaded: ./images/santa/00000057.jpg\n",
            "[INFO] downloaded: ./images/santa/00000058.jpg\n",
            "[INFO] downloaded: ./images/santa/00000059.jpg\n",
            "[INFO] downloaded: ./images/santa/00000060.jpg\n",
            "[INFO] downloaded: ./images/santa/00000061.jpg\n",
            "[INFO] downloaded: ./images/santa/00000062.jpg\n",
            "[INFO] downloaded: ./images/santa/00000063.jpg\n",
            "[INFO] downloaded: ./images/santa/00000064.jpg\n",
            "[INFO] downloaded: ./images/santa/00000065.jpg\n",
            "[INFO] downloaded: ./images/santa/00000066.jpg\n",
            "[INFO] downloaded: ./images/santa/00000067.jpg\n",
            "[INFO] downloaded: ./images/santa/00000068.jpg\n",
            "[INFO] downloaded: ./images/santa/00000069.jpg\n",
            "[INFO] downloaded: ./images/santa/00000070.jpg\n",
            "[INFO] downloaded: ./images/santa/00000071.jpg\n",
            "[INFO] downloaded: ./images/santa/00000072.jpg\n",
            "[INFO] downloaded: ./images/santa/00000073.jpg\n",
            "[INFO] downloaded: ./images/santa/00000074.jpg\n",
            "[INFO] downloaded: ./images/santa/00000075.jpg\n",
            "[INFO] downloaded: ./images/santa/00000076.jpg\n",
            "[INFO] downloaded: ./images/santa/00000077.jpg\n",
            "[INFO] downloaded: ./images/santa/00000078.jpg\n",
            "[INFO] downloaded: ./images/santa/00000079.jpg\n",
            "[INFO] downloaded: ./images/santa/00000080.jpg\n",
            "[INFO] downloaded: ./images/santa/00000081.jpg\n",
            "[INFO] downloaded: ./images/santa/00000082.jpg\n",
            "[INFO] downloaded: ./images/santa/00000083.jpg\n",
            "[INFO] downloaded: ./images/santa/00000084.jpg\n",
            "[INFO] downloaded: ./images/santa/00000085.jpg\n",
            "[INFO] downloaded: ./images/santa/00000086.jpg\n",
            "[INFO] downloaded: ./images/santa/00000087.jpg\n",
            "[INFO] downloaded: ./images/santa/00000088.jpg\n",
            "[INFO] downloaded: ./images/santa/00000089.jpg\n",
            "[INFO] downloaded: ./images/santa/00000090.jpg\n",
            "[INFO] downloaded: ./images/santa/00000091.jpg\n",
            "[INFO] downloaded: ./images/santa/00000092.jpg\n",
            "[INFO] downloaded: ./images/santa/00000093.jpg\n",
            "[INFO] downloaded: ./images/santa/00000094.jpg\n",
            "[INFO] downloaded: ./images/santa/00000095.jpg\n",
            "[INFO] downloaded: ./images/santa/00000096.jpg\n",
            "[INFO] downloaded: ./images/santa/00000097.jpg\n",
            "[INFO] downloaded: ./images/santa/00000098.jpg\n",
            "[INFO] downloaded: ./images/santa/00000099.jpg\n",
            "[INFO] downloaded: ./images/santa/00000100.jpg\n",
            "[INFO] downloaded: ./images/santa/00000101.jpg\n",
            "[INFO] downloaded: ./images/santa/00000102.jpg\n",
            "[INFO] downloaded: ./images/santa/00000103.jpg\n",
            "[INFO] downloaded: ./images/santa/00000104.jpg\n",
            "[INFO] downloaded: ./images/santa/00000105.jpg\n",
            "[INFO] downloaded: ./images/santa/00000106.jpg\n",
            "[INFO] downloaded: ./images/santa/00000107.jpg\n",
            "[INFO] downloaded: ./images/santa/00000108.jpg\n",
            "[INFO] downloaded: ./images/santa/00000109.jpg\n",
            "[INFO] downloaded: ./images/santa/00000110.jpg\n",
            "[INFO] downloaded: ./images/santa/00000111.jpg\n",
            "[INFO] downloaded: ./images/santa/00000112.jpg\n",
            "[INFO] downloaded: ./images/santa/00000113.jpg\n",
            "[INFO] downloaded: ./images/santa/00000114.jpg\n",
            "[INFO] downloaded: ./images/santa/00000115.jpg\n",
            "[INFO] downloaded: ./images/santa/00000116.jpg\n",
            "[INFO] downloaded: ./images/santa/00000117.jpg\n",
            "[INFO] downloaded: ./images/santa/00000118.jpg\n",
            "[INFO] downloaded: ./images/santa/00000119.jpg\n",
            "[INFO] downloaded: ./images/santa/00000120.jpg\n",
            "[INFO] downloaded: ./images/santa/00000121.jpg\n",
            "[INFO] downloaded: ./images/santa/00000122.jpg\n",
            "[INFO] downloaded: ./images/santa/00000123.jpg\n",
            "[INFO] downloaded: ./images/santa/00000124.jpg\n",
            "[INFO] downloaded: ./images/santa/00000125.jpg\n",
            "[INFO] downloaded: ./images/santa/00000126.jpg\n",
            "[INFO] downloaded: ./images/santa/00000127.jpg\n",
            "[INFO] downloaded: ./images/santa/00000128.jpg\n",
            "[INFO] downloaded: ./images/santa/00000129.jpg\n",
            "[INFO] downloaded: ./images/santa/00000130.jpg\n",
            "[INFO] downloaded: ./images/santa/00000131.jpg\n",
            "[INFO] downloaded: ./images/santa/00000132.jpg\n",
            "[INFO] downloaded: ./images/santa/00000133.jpg\n",
            "[INFO] downloaded: ./images/santa/00000134.jpg\n",
            "[INFO] downloaded: ./images/santa/00000135.jpg\n",
            "[INFO] downloaded: ./images/santa/00000136.jpg\n",
            "[INFO] downloaded: ./images/santa/00000137.jpg\n",
            "[INFO] downloaded: ./images/santa/00000138.jpg\n",
            "[INFO] downloaded: ./images/santa/00000139.jpg\n",
            "[INFO] downloaded: ./images/santa/00000140.jpg\n",
            "[INFO] downloaded: ./images/santa/00000141.jpg\n",
            "[INFO] downloaded: ./images/santa/00000142.jpg\n",
            "[INFO] downloaded: ./images/santa/00000143.jpg\n",
            "[INFO] downloaded: ./images/santa/00000144.jpg\n",
            "[INFO] downloaded: ./images/santa/00000145.jpg\n",
            "[INFO] downloaded: ./images/santa/00000146.jpg\n",
            "[INFO] downloaded: ./images/santa/00000147.jpg\n",
            "[INFO] downloaded: ./images/santa/00000148.jpg\n",
            "[INFO] downloaded: ./images/santa/00000149.jpg\n",
            "[INFO] downloaded: ./images/santa/00000150.jpg\n",
            "[INFO] downloaded: ./images/santa/00000151.jpg\n",
            "[INFO] downloaded: ./images/santa/00000152.jpg\n",
            "[INFO] downloaded: ./images/santa/00000153.jpg\n",
            "[INFO] downloaded: ./images/santa/00000154.jpg\n",
            "[INFO] downloaded: ./images/santa/00000155.jpg\n",
            "[INFO] downloaded: ./images/santa/00000156.jpg\n",
            "[INFO] downloaded: ./images/santa/00000157.jpg\n",
            "[INFO] downloaded: ./images/santa/00000158.jpg\n",
            "[INFO] downloaded: ./images/santa/00000159.jpg\n",
            "[INFO] downloaded: ./images/santa/00000160.jpg\n",
            "[INFO] downloaded: ./images/santa/00000161.jpg\n",
            "[INFO] downloaded: ./images/santa/00000162.jpg\n",
            "[INFO] downloaded: ./images/santa/00000163.jpg\n",
            "[INFO] downloaded: ./images/santa/00000164.jpg\n",
            "[INFO] downloaded: ./images/santa/00000165.jpg\n",
            "[INFO] downloaded: ./images/santa/00000166.jpg\n",
            "[INFO] downloaded: ./images/santa/00000167.jpg\n",
            "[INFO] downloaded: ./images/santa/00000168.jpg\n",
            "[INFO] downloaded: ./images/santa/00000169.jpg\n",
            "[INFO] downloaded: ./images/santa/00000170.jpg\n",
            "[INFO] downloaded: ./images/santa/00000171.jpg\n",
            "[INFO] downloaded: ./images/santa/00000172.jpg\n",
            "[INFO] downloaded: ./images/santa/00000173.jpg\n",
            "[INFO] downloaded: ./images/santa/00000174.jpg\n",
            "[INFO] downloaded: ./images/santa/00000175.jpg\n",
            "[INFO] downloaded: ./images/santa/00000176.jpg\n",
            "[INFO] downloaded: ./images/santa/00000177.jpg\n",
            "[INFO] downloaded: ./images/santa/00000178.jpg\n",
            "[INFO] downloaded: ./images/santa/00000179.jpg\n",
            "[INFO] downloaded: ./images/santa/00000180.jpg\n",
            "[INFO] downloaded: ./images/santa/00000181.jpg\n",
            "[INFO] downloaded: ./images/santa/00000182.jpg\n",
            "[INFO] downloaded: ./images/santa/00000183.jpg\n",
            "[INFO] downloaded: ./images/santa/00000184.jpg\n",
            "[INFO] downloaded: ./images/santa/00000185.jpg\n",
            "[INFO] downloaded: ./images/santa/00000186.jpg\n",
            "[INFO] downloaded: ./images/santa/00000187.jpg\n",
            "[INFO] downloaded: ./images/santa/00000188.jpg\n",
            "[INFO] downloaded: ./images/santa/00000189.jpg\n",
            "[INFO] downloaded: ./images/santa/00000190.jpg\n",
            "[INFO] downloaded: ./images/santa/00000191.jpg\n",
            "[INFO] downloaded: ./images/santa/00000192.jpg\n",
            "[INFO] downloaded: ./images/santa/00000193.jpg\n",
            "[INFO] downloaded: ./images/santa/00000194.jpg\n",
            "[INFO] downloaded: ./images/santa/00000195.jpg\n",
            "[INFO] downloaded: ./images/santa/00000196.jpg\n",
            "[INFO] downloaded: ./images/santa/00000197.jpg\n",
            "[INFO] downloaded: ./images/santa/00000198.jpg\n",
            "[INFO] downloaded: ./images/santa/00000199.jpg\n",
            "None\n",
            "[INFO] deleting ./images/santa/00000185.jpg\n",
            "None\n",
            "[INFO] deleting ./images/santa/00000094.jpg\n",
            "None\n",
            "[INFO] deleting ./images/santa/00000178.jpg\n",
            "None\n",
            "[INFO] deleting ./images/santa/00000089.jpg\n",
            "None\n",
            "[INFO] deleting ./images/santa/00000039.jpg\n",
            "None\n",
            "[INFO] deleting ./images/santa/00000000.jpg\n",
            "None\n",
            "[INFO] deleting ./images/santa/00000031.jpg\n",
            "None\n",
            "[INFO] deleting ./images/santa/00000001.jpg\n",
            "None\n",
            "[INFO] deleting ./images/santa/00000159.jpg\n",
            "None\n",
            "[INFO] deleting ./images/santa/00000190.jpg\n",
            "None\n",
            "[INFO] deleting ./images/santa/00000110.jpg\n",
            "None\n",
            "[INFO] deleting ./images/santa/00000093.jpg\n"
          ],
          "name": "stdout"
        }
      ]
    },
    {
      "metadata": {
        "id": "1vDF0uFu5nLU",
        "colab_type": "code",
        "outputId": "39938590-ef68-43c2-df1b-b36b807bbe41",
        "colab": {
          "base_uri": "https://localhost:8080/",
          "height": 663
        }
      },
      "cell_type": "code",
      "source": [
        "!ls images/santa/"
      ],
      "execution_count": 0,
      "outputs": [
        {
          "output_type": "stream",
          "text": [
            "00000002.jpg  00000042.jpg  00000080.jpg  00000122.jpg\t00000161.jpg\n",
            "00000003.jpg  00000043.jpg  00000081.jpg  00000123.jpg\t00000162.jpg\n",
            "00000004.jpg  00000044.jpg  00000082.jpg  00000124.jpg\t00000163.jpg\n",
            "00000005.jpg  00000045.jpg  00000083.jpg  00000125.jpg\t00000164.jpg\n",
            "00000006.jpg  00000046.jpg  00000084.jpg  00000126.jpg\t00000165.jpg\n",
            "00000007.jpg  00000047.jpg  00000085.jpg  00000127.jpg\t00000166.jpg\n",
            "00000008.jpg  00000048.jpg  00000086.jpg  00000128.jpg\t00000167.jpg\n",
            "00000009.jpg  00000049.jpg  00000087.jpg  00000129.jpg\t00000168.jpg\n",
            "00000010.jpg  00000050.jpg  00000088.jpg  00000130.jpg\t00000169.jpg\n",
            "00000011.jpg  00000051.jpg  00000090.jpg  00000131.jpg\t00000170.jpg\n",
            "00000012.jpg  00000052.jpg  00000091.jpg  00000132.jpg\t00000171.jpg\n",
            "00000013.jpg  00000053.jpg  00000092.jpg  00000133.jpg\t00000172.jpg\n",
            "00000014.jpg  00000054.jpg  00000095.jpg  00000134.jpg\t00000173.jpg\n",
            "00000015.jpg  00000055.jpg  00000096.jpg  00000135.jpg\t00000174.jpg\n",
            "00000016.jpg  00000056.jpg  00000097.jpg  00000136.jpg\t00000175.jpg\n",
            "00000017.jpg  00000057.jpg  00000098.jpg  00000137.jpg\t00000176.jpg\n",
            "00000018.jpg  00000058.jpg  00000099.jpg  00000138.jpg\t00000177.jpg\n",
            "00000019.jpg  00000059.jpg  00000100.jpg  00000139.jpg\t00000179.jpg\n",
            "00000020.jpg  00000060.jpg  00000101.jpg  00000140.jpg\t00000180.jpg\n",
            "00000021.jpg  00000061.jpg  00000102.jpg  00000141.jpg\t00000181.jpg\n",
            "00000022.jpg  00000062.jpg  00000103.jpg  00000142.jpg\t00000182.jpg\n",
            "00000023.jpg  00000063.jpg  00000104.jpg  00000143.jpg\t00000183.jpg\n",
            "00000024.jpg  00000064.jpg  00000105.jpg  00000144.jpg\t00000184.jpg\n",
            "00000025.jpg  00000065.jpg  00000106.jpg  00000145.jpg\t00000186.jpg\n",
            "00000026.jpg  00000066.jpg  00000107.jpg  00000146.jpg\t00000187.jpg\n",
            "00000027.jpg  00000067.jpg  00000108.jpg  00000147.jpg\t00000188.jpg\n",
            "00000028.jpg  00000068.jpg  00000109.jpg  00000148.jpg\t00000189.jpg\n",
            "00000029.jpg  00000069.jpg  00000111.jpg  00000149.jpg\t00000191.jpg\n",
            "00000030.jpg  00000070.jpg  00000112.jpg  00000150.jpg\t00000192.jpg\n",
            "00000032.jpg  00000071.jpg  00000113.jpg  00000151.jpg\t00000193.jpg\n",
            "00000033.jpg  00000072.jpg  00000114.jpg  00000152.jpg\t00000194.jpg\n",
            "00000034.jpg  00000073.jpg  00000115.jpg  00000153.jpg\t00000195.jpg\n",
            "00000035.jpg  00000074.jpg  00000116.jpg  00000154.jpg\t00000196.jpg\n",
            "00000036.jpg  00000075.jpg  00000117.jpg  00000155.jpg\t00000197.jpg\n",
            "00000037.jpg  00000076.jpg  00000118.jpg  00000156.jpg\t00000198.jpg\n",
            "00000038.jpg  00000077.jpg  00000119.jpg  00000157.jpg\t00000199.jpg\n",
            "00000040.jpg  00000078.jpg  00000120.jpg  00000158.jpg\n",
            "00000041.jpg  00000079.jpg  00000121.jpg  00000160.jpg\n"
          ],
          "name": "stdout"
        }
      ]
    },
    {
      "metadata": {
        "id": "RkCJmmIC6y0y",
        "colab_type": "code",
        "colab": {}
      },
      "cell_type": "code",
      "source": [
        ""
      ],
      "execution_count": 0,
      "outputs": []
    },
    {
      "metadata": {
        "id": "3WV6TYAdSoes",
        "colab_type": "text"
      },
      "cell_type": "markdown",
      "source": [
        "# 새 섹션"
      ]
    }
  ]
}