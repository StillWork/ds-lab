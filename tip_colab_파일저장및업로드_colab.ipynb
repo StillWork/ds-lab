{
  "nbformat": 4,
  "nbformat_minor": 0,
  "metadata": {
    "colab": {
      "name": "tip-colab-파일저장및업로드-colab",
      "version": "0.3.2",
      "provenance": [],
      "collapsed_sections": [
        "Vnvlt6Dozgik",
        "S7c8WYyQdh5i",
        "0ENMqxq25szn"
      ],
      "include_colab_link": true
    },
    "kernelspec": {
      "display_name": "Python 3",
      "name": "python3"
    }
  },
  "cells": [
    {
      "cell_type": "markdown",
      "metadata": {
        "id": "view-in-github",
        "colab_type": "text"
      },
      "source": [
        "<a href=\"https://colab.research.google.com/github/StillWork/ds-lab/blob/master/tip_colab_%ED%8C%8C%EC%9D%BC%EC%A0%80%EC%9E%A5%EB%B0%8F%EC%97%85%EB%A1%9C%EB%93%9C_colab.ipynb\" target=\"_parent\"><img src=\"https://colab.research.google.com/assets/colab-badge.svg\" alt=\"Open In Colab\"/></a>"
      ]
    },
    {
      "metadata": {
        "id": "7Z2jcRKwUHqV",
        "colab_type": "text"
      },
      "cell_type": "markdown",
      "source": [
        "# PC, 구글 드라이브에서 파일 업로드/다운로드"
      ]
    },
    {
      "metadata": {
        "id": "BaCkyg5CV5jF",
        "colab_type": "text"
      },
      "cell_type": "markdown",
      "source": [
        "## PC에서 파일을 선택하여 업로드 하는 방법\n",
        "\n",
        "`files.upload` returns a dictionary of the files which were uploaded.\n",
        "The dictionary is keyed by the file name, the value is the data which was uploaded."
      ]
    },
    {
      "metadata": {
        "id": "vz-jH8T_Uk2c",
        "colab_type": "code",
        "outputId": "d1822f4d-58ec-487e-9bb9-35136406169e",
        "colab": {
          "resources": {
            "http://localhost:8080/nbextensions/google.colab/files.js": {
              "data": "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",
              "ok": true,
              "headers": [
                [
                  "content-type",
                  "application/javascript"
                ]
              ],
              "status": 200,
              "status_text": ""
            }
          },
          "base_uri": "https://localhost:8080/",
          "height": 86
        }
      },
      "cell_type": "code",
      "source": [
        "from google.colab import files\n",
        "\n",
        "uploaded = files.upload()\n",
        "\n",
        "for fn in uploaded.keys():\n",
        "  print('User uploaded file \"{name}\" with length {length} bytes'.format(\n",
        "      name=fn, length=len(uploaded[fn])))"
      ],
      "execution_count": 0,
      "outputs": [
        {
          "output_type": "display_data",
          "data": {
            "text/html": [
              "\n",
              "     <input type=\"file\" id=\"files-c0d034e2-69cc-4779-a78e-e1d327345e3f\" name=\"files[]\" multiple disabled />\n",
              "     <output id=\"result-c0d034e2-69cc-4779-a78e-e1d327345e3f\">\n",
              "      Upload widget is only available when the cell has been executed in the\n",
              "      current browser session. Please rerun this cell to enable.\n",
              "      </output>\n",
              "      <script src=\"/nbextensions/google.colab/files.js\"></script> "
            ],
            "text/plain": [
              "<IPython.core.display.HTML object>"
            ]
          },
          "metadata": {
            "tags": []
          }
        },
        {
          "output_type": "stream",
          "text": [
            "Saving e-7-신경망-케라스.ipynb to e-7-신경망-케라스.ipynb\n",
            "User uploaded file \"e-7-신경망-케라스.ipynb\" with length 66021 bytes\n"
          ],
          "name": "stdout"
        }
      ]
    },
    {
      "metadata": {
        "id": "0K5dmqL8XnPZ",
        "colab_type": "code",
        "outputId": "6b3a9850-0e9a-456f-de8d-42d2e8d24626",
        "colab": {
          "base_uri": "https://localhost:8080/",
          "height": 34
        }
      },
      "cell_type": "code",
      "source": [
        "!ls"
      ],
      "execution_count": 0,
      "outputs": [
        {
          "output_type": "stream",
          "text": [
            "e-7-신경망-케라스.ipynb  haarcascade_frontalface.xml  sample_data\n"
          ],
          "name": "stdout"
        }
      ]
    },
    {
      "metadata": {
        "id": "2iIuU6y-tWy2",
        "colab_type": "text"
      },
      "cell_type": "markdown",
      "source": [
        "## 파일을 만들고 PC로 다운로드하는 방법"
      ]
    },
    {
      "metadata": {
        "id": "wEmWnQ8dsKmM",
        "colab_type": "code",
        "outputId": "ec28114d-a7d6-4d19-86e6-08b22ee52007",
        "colab": {
          "base_uri": "https://localhost:8080/",
          "height": 136
        }
      },
      "cell_type": "code",
      "source": [
        "import pandas as pd\n",
        "df = pd.DataFrame([1,2,3])\n",
        "df"
      ],
      "execution_count": 0,
      "outputs": [
        {
          "output_type": "execute_result",
          "data": {
            "text/html": [
              "<div>\n",
              "<style scoped>\n",
              "    .dataframe tbody tr th:only-of-type {\n",
              "        vertical-align: middle;\n",
              "    }\n",
              "\n",
              "    .dataframe tbody tr th {\n",
              "        vertical-align: top;\n",
              "    }\n",
              "\n",
              "    .dataframe thead th {\n",
              "        text-align: right;\n",
              "    }\n",
              "</style>\n",
              "<table border=\"1\" class=\"dataframe\">\n",
              "  <thead>\n",
              "    <tr style=\"text-align: right;\">\n",
              "      <th></th>\n",
              "      <th>0</th>\n",
              "    </tr>\n",
              "  </thead>\n",
              "  <tbody>\n",
              "    <tr>\n",
              "      <th>0</th>\n",
              "      <td>1</td>\n",
              "    </tr>\n",
              "    <tr>\n",
              "      <th>1</th>\n",
              "      <td>2</td>\n",
              "    </tr>\n",
              "    <tr>\n",
              "      <th>2</th>\n",
              "      <td>3</td>\n",
              "    </tr>\n",
              "  </tbody>\n",
              "</table>\n",
              "</div>"
            ],
            "text/plain": [
              "   0\n",
              "0  1\n",
              "1  2\n",
              "2  3"
            ]
          },
          "metadata": {
            "tags": []
          },
          "execution_count": 6
        }
      ]
    },
    {
      "metadata": {
        "id": "nteF9sSLshXc",
        "colab_type": "code",
        "outputId": "e04a336e-4f7b-4ae7-9c70-80f772474a8e",
        "colab": {
          "base_uri": "https://localhost:8080/",
          "height": 34
        }
      },
      "cell_type": "code",
      "source": [
        "df.to_csv('new_file.txt')\n",
        "!ls"
      ],
      "execution_count": 0,
      "outputs": [
        {
          "output_type": "stream",
          "text": [
            "e-7-신경망-케라스.ipynb  haarcascade_frontalface.xml  new_file.txt  sample_data\n"
          ],
          "name": "stdout"
        }
      ]
    },
    {
      "metadata": {
        "id": "uEEHBafIs_8_",
        "colab_type": "code",
        "colab": {}
      },
      "cell_type": "code",
      "source": [
        "files.download('new_file.txt')"
      ],
      "execution_count": 0,
      "outputs": []
    },
    {
      "metadata": {
        "id": "u22w3BFiOveA",
        "colab_type": "text"
      },
      "cell_type": "markdown",
      "source": [
        "## 구글 드라이브에서 파일을 읽는 방법\n",
        "\n",
        "인증번호를 입력하여 현재 가상 머신을 자신의 구글 드라이브와 연결시킬 수 있다. "
      ]
    },
    {
      "metadata": {
        "id": "7-JR7WQ5O70X",
        "colab_type": "code",
        "outputId": "8c4df923-8164-4cf5-aff0-8ac39ec7f271",
        "colab": {
          "base_uri": "https://localhost:8080/",
          "height": 121
        }
      },
      "cell_type": "code",
      "source": [
        "from google.colab import drive\n",
        "drive.mount('/gdrive')"
      ],
      "execution_count": 0,
      "outputs": [
        {
          "output_type": "stream",
          "text": [
            "Go to this URL in a browser: https://accounts.google.com/o/oauth2/auth?client_id=947318989803-6bn6qk8qdgf4n4g3pfee6491hc0brc4i.apps.googleusercontent.com&redirect_uri=urn%3Aietf%3Awg%3Aoauth%3A2.0%3Aoob&scope=email%20https%3A%2F%2Fwww.googleapis.com%2Fauth%2Fdocs.test%20https%3A%2F%2Fwww.googleapis.com%2Fauth%2Fdrive%20https%3A%2F%2Fwww.googleapis.com%2Fauth%2Fdrive.photos.readonly%20https%3A%2F%2Fwww.googleapis.com%2Fauth%2Fpeopleapi.readonly&response_type=code\n",
            "\n",
            "Enter your authorization code:\n",
            "··········\n",
            "Mounted at /gdrive\n"
          ],
          "name": "stdout"
        }
      ]
    },
    {
      "metadata": {
        "id": "gcaSiXI_qlpZ",
        "colab_type": "code",
        "outputId": "8a9f0d44-802e-4d82-c304-c52947db8b9c",
        "colab": {
          "base_uri": "https://localhost:8080/",
          "height": 34
        }
      },
      "cell_type": "code",
      "source": [
        "!ls /gdrive/My\\ Drive/Colab\\ Notebooks/data"
      ],
      "execution_count": 0,
      "outputs": [
        {
          "output_type": "stream",
          "text": [
            "accidents.txt  car_accidents.xls  new_file_accidents.txt\n"
          ],
          "name": "stdout"
        }
      ]
    },
    {
      "metadata": {
        "id": "zpL1IQforS1I",
        "colab_type": "code",
        "outputId": "055190f7-be1d-4b58-fcf6-45af711757bb",
        "colab": {
          "base_uri": "https://localhost:8080/",
          "height": 884
        }
      },
      "cell_type": "code",
      "source": [
        "accidents = pd.read_csv('/gdrive/My Drive/Colab Notebooks/data/accidents.txt', delimiter='\\t')\n",
        "accidents"
      ],
      "execution_count": 0,
      "outputs": [
        {
          "output_type": "execute_result",
          "data": {
            "text/html": [
              "<div>\n",
              "<style scoped>\n",
              "    .dataframe tbody tr th:only-of-type {\n",
              "        vertical-align: middle;\n",
              "    }\n",
              "\n",
              "    .dataframe tbody tr th {\n",
              "        vertical-align: top;\n",
              "    }\n",
              "\n",
              "    .dataframe thead th {\n",
              "        text-align: right;\n",
              "    }\n",
              "</style>\n",
              "<table border=\"1\" class=\"dataframe\">\n",
              "  <thead>\n",
              "    <tr style=\"text-align: right;\">\n",
              "      <th></th>\n",
              "      <th>기간</th>\n",
              "      <th>지역</th>\n",
              "      <th>발생건수</th>\n",
              "      <th>자동차 1만대당 발생건수</th>\n",
              "      <th>사망자수</th>\n",
              "      <th>인구 10만명당 사망자수</th>\n",
              "      <th>부상자수</th>\n",
              "      <th>인구 10만명당 부상자수</th>\n",
              "    </tr>\n",
              "  </thead>\n",
              "  <tbody>\n",
              "    <tr>\n",
              "      <th>0</th>\n",
              "      <td>2017</td>\n",
              "      <td>합계</td>\n",
              "      <td>38,625</td>\n",
              "      <td>108.3</td>\n",
              "      <td>343</td>\n",
              "      <td>3.4</td>\n",
              "      <td>53,810</td>\n",
              "      <td>531.5</td>\n",
              "    </tr>\n",
              "    <tr>\n",
              "      <th>1</th>\n",
              "      <td>2017</td>\n",
              "      <td>종로구</td>\n",
              "      <td>1,190</td>\n",
              "      <td>185.3</td>\n",
              "      <td>13</td>\n",
              "      <td>7.9</td>\n",
              "      <td>1,689</td>\n",
              "      <td>1,028.3</td>\n",
              "    </tr>\n",
              "    <tr>\n",
              "      <th>2</th>\n",
              "      <td>2017</td>\n",
              "      <td>중구</td>\n",
              "      <td>1,252</td>\n",
              "      <td>188.7</td>\n",
              "      <td>4</td>\n",
              "      <td>3.0</td>\n",
              "      <td>1,684</td>\n",
              "      <td>1,251.2</td>\n",
              "    </tr>\n",
              "    <tr>\n",
              "      <th>3</th>\n",
              "      <td>2017</td>\n",
              "      <td>용산구</td>\n",
              "      <td>1,337</td>\n",
              "      <td>142.9</td>\n",
              "      <td>12</td>\n",
              "      <td>4.9</td>\n",
              "      <td>1,949</td>\n",
              "      <td>797.3</td>\n",
              "    </tr>\n",
              "    <tr>\n",
              "      <th>4</th>\n",
              "      <td>2017</td>\n",
              "      <td>성동구</td>\n",
              "      <td>1,076</td>\n",
              "      <td>86.9</td>\n",
              "      <td>15</td>\n",
              "      <td>4.8</td>\n",
              "      <td>1,501</td>\n",
              "      <td>480</td>\n",
              "    </tr>\n",
              "    <tr>\n",
              "      <th>5</th>\n",
              "      <td>2017</td>\n",
              "      <td>광진구</td>\n",
              "      <td>1,064</td>\n",
              "      <td>90.9</td>\n",
              "      <td>16</td>\n",
              "      <td>4.3</td>\n",
              "      <td>1,441</td>\n",
              "      <td>387.1</td>\n",
              "    </tr>\n",
              "    <tr>\n",
              "      <th>6</th>\n",
              "      <td>2017</td>\n",
              "      <td>동대문구</td>\n",
              "      <td>1,718</td>\n",
              "      <td>141.2</td>\n",
              "      <td>25</td>\n",
              "      <td>6.8</td>\n",
              "      <td>2,139</td>\n",
              "      <td>584.4</td>\n",
              "    </tr>\n",
              "    <tr>\n",
              "      <th>7</th>\n",
              "      <td>2017</td>\n",
              "      <td>중랑구</td>\n",
              "      <td>1,639</td>\n",
              "      <td>118.6</td>\n",
              "      <td>6</td>\n",
              "      <td>1.5</td>\n",
              "      <td>2,228</td>\n",
              "      <td>539.8</td>\n",
              "    </tr>\n",
              "    <tr>\n",
              "      <th>8</th>\n",
              "      <td>2017</td>\n",
              "      <td>성북구</td>\n",
              "      <td>1,557</td>\n",
              "      <td>108.5</td>\n",
              "      <td>17</td>\n",
              "      <td>3.7</td>\n",
              "      <td>2,068</td>\n",
              "      <td>454.1</td>\n",
              "    </tr>\n",
              "    <tr>\n",
              "      <th>9</th>\n",
              "      <td>2017</td>\n",
              "      <td>강북구</td>\n",
              "      <td>1,202</td>\n",
              "      <td>120.5</td>\n",
              "      <td>9</td>\n",
              "      <td>2.7</td>\n",
              "      <td>1,567</td>\n",
              "      <td>477.7</td>\n",
              "    </tr>\n",
              "    <tr>\n",
              "      <th>10</th>\n",
              "      <td>2017</td>\n",
              "      <td>도봉구</td>\n",
              "      <td>944</td>\n",
              "      <td>84.3</td>\n",
              "      <td>9</td>\n",
              "      <td>2.6</td>\n",
              "      <td>1,239</td>\n",
              "      <td>357.9</td>\n",
              "    </tr>\n",
              "    <tr>\n",
              "      <th>11</th>\n",
              "      <td>2017</td>\n",
              "      <td>노원구</td>\n",
              "      <td>1,499</td>\n",
              "      <td>88.3</td>\n",
              "      <td>11</td>\n",
              "      <td>2.0</td>\n",
              "      <td>2,055</td>\n",
              "      <td>368.2</td>\n",
              "    </tr>\n",
              "    <tr>\n",
              "      <th>12</th>\n",
              "      <td>2017</td>\n",
              "      <td>은평구</td>\n",
              "      <td>1,067</td>\n",
              "      <td>71.2</td>\n",
              "      <td>12</td>\n",
              "      <td>2.4</td>\n",
              "      <td>1,489</td>\n",
              "      <td>303.1</td>\n",
              "    </tr>\n",
              "    <tr>\n",
              "      <th>13</th>\n",
              "      <td>2017</td>\n",
              "      <td>서대문구</td>\n",
              "      <td>1,032</td>\n",
              "      <td>102.2</td>\n",
              "      <td>8</td>\n",
              "      <td>2.5</td>\n",
              "      <td>1,430</td>\n",
              "      <td>440</td>\n",
              "    </tr>\n",
              "    <tr>\n",
              "      <th>14</th>\n",
              "      <td>2017</td>\n",
              "      <td>마포구</td>\n",
              "      <td>1,859</td>\n",
              "      <td>138.9</td>\n",
              "      <td>8</td>\n",
              "      <td>2.1</td>\n",
              "      <td>2,793</td>\n",
              "      <td>724</td>\n",
              "    </tr>\n",
              "    <tr>\n",
              "      <th>15</th>\n",
              "      <td>2017</td>\n",
              "      <td>양천구</td>\n",
              "      <td>1,343</td>\n",
              "      <td>79.3</td>\n",
              "      <td>13</td>\n",
              "      <td>2.7</td>\n",
              "      <td>1,789</td>\n",
              "      <td>376.6</td>\n",
              "    </tr>\n",
              "    <tr>\n",
              "      <th>16</th>\n",
              "      <td>2017</td>\n",
              "      <td>강서구</td>\n",
              "      <td>1,584</td>\n",
              "      <td>71.8</td>\n",
              "      <td>12</td>\n",
              "      <td>2.0</td>\n",
              "      <td>2,155</td>\n",
              "      <td>354.3</td>\n",
              "    </tr>\n",
              "    <tr>\n",
              "      <th>17</th>\n",
              "      <td>2017</td>\n",
              "      <td>구로구</td>\n",
              "      <td>1,433</td>\n",
              "      <td>89.4</td>\n",
              "      <td>12</td>\n",
              "      <td>2.7</td>\n",
              "      <td>1,960</td>\n",
              "      <td>443.9</td>\n",
              "    </tr>\n",
              "    <tr>\n",
              "      <th>18</th>\n",
              "      <td>2017</td>\n",
              "      <td>금천구</td>\n",
              "      <td>824</td>\n",
              "      <td>84.0</td>\n",
              "      <td>6</td>\n",
              "      <td>2.4</td>\n",
              "      <td>1,228</td>\n",
              "      <td>484.4</td>\n",
              "    </tr>\n",
              "    <tr>\n",
              "      <th>19</th>\n",
              "      <td>2017</td>\n",
              "      <td>영등포구</td>\n",
              "      <td>2,386</td>\n",
              "      <td>146.7</td>\n",
              "      <td>22</td>\n",
              "      <td>5.5</td>\n",
              "      <td>3,519</td>\n",
              "      <td>875.3</td>\n",
              "    </tr>\n",
              "    <tr>\n",
              "      <th>20</th>\n",
              "      <td>2017</td>\n",
              "      <td>동작구</td>\n",
              "      <td>1,409</td>\n",
              "      <td>117.5</td>\n",
              "      <td>20</td>\n",
              "      <td>4.9</td>\n",
              "      <td>2,043</td>\n",
              "      <td>500.1</td>\n",
              "    </tr>\n",
              "    <tr>\n",
              "      <th>21</th>\n",
              "      <td>2017</td>\n",
              "      <td>관악구</td>\n",
              "      <td>1,251</td>\n",
              "      <td>85.3</td>\n",
              "      <td>11</td>\n",
              "      <td>2.1</td>\n",
              "      <td>1,659</td>\n",
              "      <td>318.5</td>\n",
              "    </tr>\n",
              "    <tr>\n",
              "      <th>22</th>\n",
              "      <td>2017</td>\n",
              "      <td>서초구</td>\n",
              "      <td>2,361</td>\n",
              "      <td>120.7</td>\n",
              "      <td>21</td>\n",
              "      <td>4.7</td>\n",
              "      <td>3,548</td>\n",
              "      <td>796.6</td>\n",
              "    </tr>\n",
              "    <tr>\n",
              "      <th>23</th>\n",
              "      <td>2017</td>\n",
              "      <td>강남구</td>\n",
              "      <td>3,469</td>\n",
              "      <td>136.0</td>\n",
              "      <td>19</td>\n",
              "      <td>3.4</td>\n",
              "      <td>4,959</td>\n",
              "      <td>883.9</td>\n",
              "    </tr>\n",
              "    <tr>\n",
              "      <th>24</th>\n",
              "      <td>2017</td>\n",
              "      <td>송파구</td>\n",
              "      <td>2,758</td>\n",
              "      <td>109.9</td>\n",
              "      <td>23</td>\n",
              "      <td>3.4</td>\n",
              "      <td>3,805</td>\n",
              "      <td>566.9</td>\n",
              "    </tr>\n",
              "    <tr>\n",
              "      <th>25</th>\n",
              "      <td>2017</td>\n",
              "      <td>강동구</td>\n",
              "      <td>1,371</td>\n",
              "      <td>89.6</td>\n",
              "      <td>19</td>\n",
              "      <td>4.3</td>\n",
              "      <td>1,873</td>\n",
              "      <td>425.3</td>\n",
              "    </tr>\n",
              "  </tbody>\n",
              "</table>\n",
              "</div>"
            ],
            "text/plain": [
              "      기간    지역    발생건수  자동차 1만대당 발생건수  사망자수  인구 10만명당 사망자수    부상자수  \\\n",
              "0   2017    합계  38,625          108.3   343            3.4  53,810   \n",
              "1   2017   종로구   1,190          185.3    13            7.9   1,689   \n",
              "2   2017    중구   1,252          188.7     4            3.0   1,684   \n",
              "3   2017   용산구   1,337          142.9    12            4.9   1,949   \n",
              "4   2017   성동구   1,076           86.9    15            4.8   1,501   \n",
              "5   2017   광진구   1,064           90.9    16            4.3   1,441   \n",
              "6   2017  동대문구   1,718          141.2    25            6.8   2,139   \n",
              "7   2017   중랑구   1,639          118.6     6            1.5   2,228   \n",
              "8   2017   성북구   1,557          108.5    17            3.7   2,068   \n",
              "9   2017   강북구   1,202          120.5     9            2.7   1,567   \n",
              "10  2017   도봉구     944           84.3     9            2.6   1,239   \n",
              "11  2017   노원구   1,499           88.3    11            2.0   2,055   \n",
              "12  2017   은평구   1,067           71.2    12            2.4   1,489   \n",
              "13  2017  서대문구   1,032          102.2     8            2.5   1,430   \n",
              "14  2017   마포구   1,859          138.9     8            2.1   2,793   \n",
              "15  2017   양천구   1,343           79.3    13            2.7   1,789   \n",
              "16  2017   강서구   1,584           71.8    12            2.0   2,155   \n",
              "17  2017   구로구   1,433           89.4    12            2.7   1,960   \n",
              "18  2017   금천구     824           84.0     6            2.4   1,228   \n",
              "19  2017  영등포구   2,386          146.7    22            5.5   3,519   \n",
              "20  2017   동작구   1,409          117.5    20            4.9   2,043   \n",
              "21  2017   관악구   1,251           85.3    11            2.1   1,659   \n",
              "22  2017   서초구   2,361          120.7    21            4.7   3,548   \n",
              "23  2017   강남구   3,469          136.0    19            3.4   4,959   \n",
              "24  2017   송파구   2,758          109.9    23            3.4   3,805   \n",
              "25  2017   강동구   1,371           89.6    19            4.3   1,873   \n",
              "\n",
              "   인구 10만명당 부상자수  \n",
              "0          531.5  \n",
              "1        1,028.3  \n",
              "2        1,251.2  \n",
              "3          797.3  \n",
              "4            480  \n",
              "5          387.1  \n",
              "6          584.4  \n",
              "7          539.8  \n",
              "8          454.1  \n",
              "9          477.7  \n",
              "10         357.9  \n",
              "11         368.2  \n",
              "12         303.1  \n",
              "13           440  \n",
              "14           724  \n",
              "15         376.6  \n",
              "16         354.3  \n",
              "17         443.9  \n",
              "18         484.4  \n",
              "19         875.3  \n",
              "20         500.1  \n",
              "21         318.5  \n",
              "22         796.6  \n",
              "23         883.9  \n",
              "24         566.9  \n",
              "25         425.3  "
            ]
          },
          "metadata": {
            "tags": []
          },
          "execution_count": 11
        }
      ]
    },
    {
      "metadata": {
        "id": "734ENNLIumZr",
        "colab_type": "text"
      },
      "cell_type": "markdown",
      "source": [
        "메뉴창 이용하기\n",
        "--\n",
        "- 좌측의 메뉴창 '파일'에서 마운트 되어 있는 구글 드라이브의 내용을 확인할 수 있다.\n",
        "- PC에서 직접 업로드/다운로드 할 수 있다."
      ]
    },
    {
      "metadata": {
        "id": "lN7E4Fa6trCX",
        "colab_type": "text"
      },
      "cell_type": "markdown",
      "source": [
        "## 구글 드라이브에 파일을 보내는 방법"
      ]
    },
    {
      "metadata": {
        "id": "I2Lz9MGCt1g2",
        "colab_type": "code",
        "outputId": "deda409d-e09c-4951-fc2a-56a201625368",
        "colab": {
          "base_uri": "https://localhost:8080/",
          "height": 34
        }
      },
      "cell_type": "code",
      "source": [
        "!ls /gdrive/My\\ Drive/Colab\\ Notebooks/data"
      ],
      "execution_count": 0,
      "outputs": [
        {
          "output_type": "stream",
          "text": [
            "accidents.txt  car_accidents.xls  new_file_accidents.txt\n"
          ],
          "name": "stdout"
        }
      ]
    },
    {
      "metadata": {
        "id": "1I9JQDFwtwGo",
        "colab_type": "code",
        "colab": {}
      },
      "cell_type": "code",
      "source": [
        "accidents.to_csv('/gdrive/My Drive/Colab Notebooks/data/new_file_accidents.txt')\n",
        "!ls /gdrive/My\\ Drive/Colab\\ Notebooks/data"
      ],
      "execution_count": 0,
      "outputs": []
    },
    {
      "metadata": {
        "id": "Vnvlt6Dozgik",
        "colab_type": "text"
      },
      "cell_type": "markdown",
      "source": [
        "아래는 PyDrive, 구글 시트, 구글 클라우드를 이용하는 방법\n",
        "=="
      ]
    },
    {
      "metadata": {
        "id": "7taylj9wpsA2",
        "colab_type": "text"
      },
      "cell_type": "markdown",
      "source": [
        "## PyDrive\n",
        "\n",
        "The example below shows 1) authentication, 2) file upload, and 3) file download. More examples are available in the [PyDrive documentation](https://gsuitedevs.github.io/PyDrive/docs/build/html/index.html)"
      ]
    },
    {
      "metadata": {
        "id": "zU5b6dlRwUQk",
        "colab_type": "code",
        "outputId": "60570a07-c670-4cd1-abb7-19504ee91e86",
        "colab": {
          "base_uri": "https://localhost:8080/",
          "height": 53
        }
      },
      "cell_type": "code",
      "source": [
        "!pip install -U -q PyDrive\n",
        "\n",
        "from pydrive.auth import GoogleAuth\n",
        "from pydrive.drive import GoogleDrive\n",
        "from google.colab import auth\n",
        "from oauth2client.client import GoogleCredentials\n",
        "\n",
        "# 1. Authenticate and create the PyDrive client.\n",
        "auth.authenticate_user()\n",
        "gauth = GoogleAuth()\n",
        "gauth.credentials = GoogleCredentials.get_application_default()\n",
        "drive = GoogleDrive(gauth)\n",
        "\n",
        "# PyDrive reference:\n",
        "# https://gsuitedevs.github.io/PyDrive/docs/build/html/index.html\n",
        "\n",
        "# 2. Create & upload a file text file.\n",
        "uploaded = drive.CreateFile({'title': 'Sample upload.txt'})\n",
        "uploaded.SetContentString('Sample upload file content')\n",
        "uploaded.Upload()\n",
        "print('Uploaded file with ID {}'.format(uploaded.get('id')))\n",
        "\n",
        "# 3. Load a file by ID and print its contents.\n",
        "downloaded = drive.CreateFile({'id': uploaded.get('id')})\n",
        "print('Downloaded content \"{}\"'.format(downloaded.GetContentString()))"
      ],
      "execution_count": 0,
      "outputs": [
        {
          "output_type": "stream",
          "text": [
            "Uploaded file with ID 14vDAdqp7BSCQnoougmgylBexIr2AQx2T\n",
            "Downloaded content \"Sample upload file content\"\n"
          ],
          "name": "stdout"
        }
      ]
    },
    {
      "metadata": {
        "id": "yvcof7fwImWS",
        "colab_type": "code",
        "outputId": "8505b278-cb5c-4135-e98e-20dfdb505b92",
        "colab": {
          "base_uri": "https://localhost:8080/",
          "height": 201
        }
      },
      "cell_type": "code",
      "source": [
        "with open('/gdrive/foo.txt', 'w') as f:\n",
        "  f.write('Hello Google Drive!')\n",
        "!cat /gdrive/foo.txt"
      ],
      "execution_count": 0,
      "outputs": [
        {
          "output_type": "error",
          "ename": "OSError",
          "evalue": "ignored",
          "traceback": [
            "\u001b[0;31m---------------------------------------------------------------------------\u001b[0m",
            "\u001b[0;31mOSError\u001b[0m                                   Traceback (most recent call last)",
            "\u001b[0;32m<ipython-input-19-9c12c6cc4374>\u001b[0m in \u001b[0;36m<module>\u001b[0;34m()\u001b[0m\n\u001b[0;32m----> 1\u001b[0;31m \u001b[0;32mwith\u001b[0m \u001b[0mopen\u001b[0m\u001b[0;34m(\u001b[0m\u001b[0;34m'/gdrive/foo.txt'\u001b[0m\u001b[0;34m,\u001b[0m \u001b[0;34m'w'\u001b[0m\u001b[0;34m)\u001b[0m \u001b[0;32mas\u001b[0m \u001b[0mf\u001b[0m\u001b[0;34m:\u001b[0m\u001b[0;34m\u001b[0m\u001b[0m\n\u001b[0m\u001b[1;32m      2\u001b[0m   \u001b[0mf\u001b[0m\u001b[0;34m.\u001b[0m\u001b[0mwrite\u001b[0m\u001b[0;34m(\u001b[0m\u001b[0;34m'Hello Google Drive!'\u001b[0m\u001b[0;34m)\u001b[0m\u001b[0;34m\u001b[0m\u001b[0m\n\u001b[1;32m      3\u001b[0m \u001b[0mget_ipython\u001b[0m\u001b[0;34m(\u001b[0m\u001b[0;34m)\u001b[0m\u001b[0;34m.\u001b[0m\u001b[0msystem\u001b[0m\u001b[0;34m(\u001b[0m\u001b[0;34m'cat /gdrive/foo.txt'\u001b[0m\u001b[0;34m)\u001b[0m\u001b[0;34m\u001b[0m\u001b[0m\n",
            "\u001b[0;31mOSError\u001b[0m: [Errno 95] Operation not supported: '/gdrive/foo.txt'"
          ]
        }
      ]
    },
    {
      "metadata": {
        "id": "jRQ5_yMcqJiV",
        "colab_type": "text"
      },
      "cell_type": "markdown",
      "source": [
        "## Drive REST API\n",
        "\n",
        "The first step is to authenticate."
      ]
    },
    {
      "metadata": {
        "id": "r-exJtdG3XwJ",
        "colab_type": "code",
        "colab": {}
      },
      "cell_type": "code",
      "source": [
        "from google.colab import auth\n",
        "auth.authenticate_user()"
      ],
      "execution_count": 0,
      "outputs": []
    },
    {
      "metadata": {
        "id": "57uSvdv48bp7",
        "colab_type": "text"
      },
      "cell_type": "markdown",
      "source": [
        "Now we can construct a Drive API client."
      ]
    },
    {
      "metadata": {
        "id": "1aNyFO958V13",
        "colab_type": "code",
        "colab": {}
      },
      "cell_type": "code",
      "source": [
        "from googleapiclient.discovery import build\n",
        "drive_service = build('drive', 'v3')"
      ],
      "execution_count": 0,
      "outputs": []
    },
    {
      "metadata": {
        "id": "eDLm7MHQEr2U",
        "colab_type": "text"
      },
      "cell_type": "markdown",
      "source": [
        "With the client created, we can use any of the functions in the [Google Drive API reference](https://developers.google.com/drive/v3/reference/). Examples follow.\n"
      ]
    },
    {
      "metadata": {
        "id": "bRFyEsdfBxJ9",
        "colab_type": "text"
      },
      "cell_type": "markdown",
      "source": [
        "## Creating a new Drive file with data from Python"
      ]
    },
    {
      "metadata": {
        "id": "F1-nafvN-NwW",
        "colab_type": "code",
        "outputId": "4466d27b-edd0-4ef1-8a10-0e180a231af2",
        "colab": {
          "base_uri": "https://localhost:8080/",
          "height": 53
        }
      },
      "cell_type": "code",
      "source": [
        "# Create a local file to upload.\n",
        "with open('/tmp/to_upload.txt', 'w') as f:\n",
        "  f.write('my sample file')\n",
        "\n",
        "print('/tmp/to_upload.txt contains:')\n",
        "!cat /tmp/to_upload.txt"
      ],
      "execution_count": 0,
      "outputs": [
        {
          "output_type": "stream",
          "text": [
            "/tmp/to_upload.txt contains:\n",
            "my sample file"
          ],
          "name": "stdout"
        }
      ]
    },
    {
      "metadata": {
        "id": "3Jv6jh6HEpP8",
        "colab_type": "code",
        "outputId": "cfc1186f-68a1-4620-a18f-99bc6d83e82e",
        "colab": {
          "base_uri": "https://localhost:8080/",
          "height": 35
        }
      },
      "cell_type": "code",
      "source": [
        "# Upload the file to Drive. See:\n",
        "#\n",
        "# https://developers.google.com/drive/v3/reference/files/create\n",
        "# https://developers.google.com/drive/v3/web/manage-uploads\n",
        "from googleapiclient.http import MediaFileUpload\n",
        "\n",
        "file_metadata = {\n",
        "  'name': 'Sample file',\n",
        "  'mimeType': 'text/plain'\n",
        "}\n",
        "media = MediaFileUpload('/tmp/to_upload.txt', \n",
        "                        mimetype='text/plain',\n",
        "                        resumable=True)\n",
        "created = drive_service.files().create(body=file_metadata,\n",
        "                                       media_body=media,\n",
        "                                       fields='id').execute()\n",
        "print('File ID: {}'.format(created.get('id')))"
      ],
      "execution_count": 0,
      "outputs": [
        {
          "output_type": "stream",
          "text": [
            "File ID: 1Cw9CqiyU6zbXFD9ViPZu_3yX-sYF4W17\n"
          ],
          "name": "stdout"
        }
      ]
    },
    {
      "metadata": {
        "id": "j5VyISCKFrqU",
        "colab_type": "text"
      },
      "cell_type": "markdown",
      "source": [
        "After executing the cell above, a new file named 'Sample file' will appear in your [drive.google.com](https://drive.google.com/) file list. Your file ID will differ since you will have created a new, distinct file from the example above."
      ]
    },
    {
      "metadata": {
        "id": "P3KX0Sm0E2sF",
        "colab_type": "text"
      },
      "cell_type": "markdown",
      "source": [
        "## Downloading data from a Drive file into Python"
      ]
    },
    {
      "metadata": {
        "id": "KHeruhacFpSU",
        "colab_type": "code",
        "outputId": "dfe7154f-249c-4344-bd62-a3b294ce02b4",
        "colab": {
          "base_uri": "https://localhost:8080/",
          "height": 35
        }
      },
      "cell_type": "code",
      "source": [
        "# Download the file we just uploaded.\n",
        "#\n",
        "# Replace the assignment below with your file ID\n",
        "# to download a different file.\n",
        "#\n",
        "# A file ID looks like: 1uBtlaggVyWshwcyP6kEI-y_W3P8D26sz\n",
        "file_id = 'target_file_id'\n",
        "\n",
        "import io\n",
        "from googleapiclient.http import MediaIoBaseDownload\n",
        "\n",
        "request = drive_service.files().get_media(fileId=file_id)\n",
        "downloaded = io.BytesIO()\n",
        "downloader = MediaIoBaseDownload(downloaded, request)\n",
        "done = False\n",
        "while done is False:\n",
        "  # _ is a placeholder for a progress object that we ignore.\n",
        "  # (Our file is small, so we skip reporting progress.)\n",
        "  _, done = downloader.next_chunk()\n",
        "\n",
        "downloaded.seek(0)\n",
        "print('Downloaded file contents are: {}'.format(downloaded.read()))"
      ],
      "execution_count": 0,
      "outputs": [
        {
          "output_type": "stream",
          "text": [
            "Downloaded file contents are: my sample file\n"
          ],
          "name": "stdout"
        }
      ]
    },
    {
      "metadata": {
        "id": "sOm9PFrT8mGG",
        "colab_type": "text"
      },
      "cell_type": "markdown",
      "source": [
        "## Google Sheets\n",
        "\n",
        "Our examples below will use the existing open-source [gspread](https://github.com/burnash/gspread) library for interacting with Sheets.\n",
        "\n",
        "First, we'll install the package using `pip`."
      ]
    },
    {
      "metadata": {
        "id": "Mwu_sWHv4jEo",
        "colab_type": "code",
        "colab": {}
      },
      "cell_type": "code",
      "source": [
        "!pip install --upgrade -q gspread"
      ],
      "execution_count": 0,
      "outputs": []
    },
    {
      "metadata": {
        "id": "qzi9VsEqzI-o",
        "colab_type": "text"
      },
      "cell_type": "markdown",
      "source": [
        "Next, we'll import the library, authenticate, and create the interface to sheets."
      ]
    },
    {
      "metadata": {
        "id": "6d0xJz3VzLOo",
        "colab_type": "code",
        "colab": {}
      },
      "cell_type": "code",
      "source": [
        "from google.colab import auth\n",
        "auth.authenticate_user()\n",
        "\n",
        "import gspread\n",
        "from oauth2client.client import GoogleCredentials\n",
        "\n",
        "gc = gspread.authorize(GoogleCredentials.get_application_default())"
      ],
      "execution_count": 0,
      "outputs": []
    },
    {
      "metadata": {
        "id": "yjrZQUrt6kKj",
        "colab_type": "text"
      },
      "cell_type": "markdown",
      "source": [
        "Below is a small set of gspread examples. Additional examples are shown on the [gspread Github page](https://github.com/burnash/gspread#more-examples)."
      ]
    },
    {
      "metadata": {
        "id": "WgXqE02UofZG",
        "colab_type": "text"
      },
      "cell_type": "markdown",
      "source": [
        "## Creating a new sheet with data from Python"
      ]
    },
    {
      "metadata": {
        "id": "tnnYKhGfzGeP",
        "colab_type": "code",
        "colab": {}
      },
      "cell_type": "code",
      "source": [
        "sh = gc.create('A new spreadsheet')"
      ],
      "execution_count": 0,
      "outputs": []
    },
    {
      "metadata": {
        "id": "v9Ia9JVc6Zvk",
        "colab_type": "text"
      },
      "cell_type": "markdown",
      "source": [
        "After executing the cell above, a new spreadsheet will be shown in your sheets list on [sheets.google.com](http://sheets.google.com/)."
      ]
    },
    {
      "metadata": {
        "id": "rkwijiH72BCm",
        "colab_type": "code",
        "colab": {}
      },
      "cell_type": "code",
      "source": [
        "# Open our new sheet and add some data.\n",
        "worksheet = gc.open('A new spreadsheet').sheet1\n",
        "\n",
        "cell_list = worksheet.range('A1:C2')\n",
        "\n",
        "import random\n",
        "for cell in cell_list:\n",
        "  cell.value = random.randint(1, 10)\n",
        "\n",
        "worksheet.update_cells(cell_list)"
      ],
      "execution_count": 0,
      "outputs": []
    },
    {
      "metadata": {
        "id": "vRWjiZka9IvT",
        "colab_type": "text"
      },
      "cell_type": "markdown",
      "source": [
        "After executing the cell above, the sheet will be populated with random numbers in the assigned range."
      ]
    },
    {
      "metadata": {
        "id": "k9q0pp33dckN",
        "colab_type": "text"
      },
      "cell_type": "markdown",
      "source": [
        "## Downloading data from a sheet into Python as a Pandas DataFrame\n",
        "\n",
        "We'll read back to the data that we inserted above and convert the result into a [Pandas DataFrame](https://pandas.pydata.org/pandas-docs/stable/generated/pandas.DataFrame.html).\n",
        "\n",
        "(The data you observe will differ since the contents of each cell is a random number.)"
      ]
    },
    {
      "metadata": {
        "id": "JiJVCmu3dhFa",
        "colab_type": "code",
        "outputId": "783cdfff-087b-48c4-c1aa-637045b07980",
        "colab": {
          "base_uri": "https://localhost:8080/",
          "height": 126
        }
      },
      "cell_type": "code",
      "source": [
        "# Open our new sheet and read some data.\n",
        "worksheet = gc.open('A new spreadsheet').sheet1\n",
        "\n",
        "# get_all_values gives a list of rows.\n",
        "rows = worksheet.get_all_values()\n",
        "print(rows)\n",
        "\n",
        "# Convert to a DataFrame and render.\n",
        "import pandas as pd\n",
        "pd.DataFrame.from_records(rows)"
      ],
      "execution_count": 0,
      "outputs": [
        {
          "output_type": "stream",
          "text": [
            "[['10', '5', '6'], ['9', '6', '2']]\n"
          ],
          "name": "stdout"
        },
        {
          "output_type": "execute_result",
          "data": {
            "text/html": [
              "<div>\n",
              "<style>\n",
              "    .dataframe thead tr:only-child th {\n",
              "        text-align: right;\n",
              "    }\n",
              "\n",
              "    .dataframe thead th {\n",
              "        text-align: left;\n",
              "    }\n",
              "\n",
              "    .dataframe tbody tr th {\n",
              "        vertical-align: top;\n",
              "    }\n",
              "</style>\n",
              "<table border=\"1\" class=\"dataframe\">\n",
              "  <thead>\n",
              "    <tr style=\"text-align: right;\">\n",
              "      <th></th>\n",
              "      <th>0</th>\n",
              "      <th>1</th>\n",
              "      <th>2</th>\n",
              "    </tr>\n",
              "  </thead>\n",
              "  <tbody>\n",
              "    <tr>\n",
              "      <th>0</th>\n",
              "      <td>10</td>\n",
              "      <td>5</td>\n",
              "      <td>6</td>\n",
              "    </tr>\n",
              "    <tr>\n",
              "      <th>1</th>\n",
              "      <td>9</td>\n",
              "      <td>6</td>\n",
              "      <td>2</td>\n",
              "    </tr>\n",
              "  </tbody>\n",
              "</table>\n",
              "</div>"
            ],
            "text/plain": [
              "    0  1  2\n",
              "0  10  5  6\n",
              "1   9  6  2"
            ]
          },
          "metadata": {
            "tags": []
          },
          "execution_count": 0
        }
      ]
    },
    {
      "metadata": {
        "id": "S7c8WYyQdh5i",
        "colab_type": "text"
      },
      "cell_type": "markdown",
      "source": [
        "# Google Cloud Storage (GCS)\n",
        "\n",
        "We'll start by authenticating to GCS and creating the service client."
      ]
    },
    {
      "metadata": {
        "id": "xM70QWdxeE7q",
        "colab_type": "code",
        "colab": {}
      },
      "cell_type": "code",
      "source": [
        "from google.colab import auth\n",
        "auth.authenticate_user()"
      ],
      "execution_count": 0,
      "outputs": []
    },
    {
      "metadata": {
        "id": "NAM6vyXAfVUj",
        "colab_type": "text"
      },
      "cell_type": "markdown",
      "source": [
        "## Upload a file from Python to a GCS bucket\n",
        "\n",
        "We'll start by creating the sample file to be uploaded."
      ]
    },
    {
      "metadata": {
        "id": "LADpx7LReOMk",
        "colab_type": "code",
        "outputId": "46db7cfa-9ad8-405b-f715-b466a3b2cb7a",
        "colab": {
          "base_uri": "https://localhost:8080/",
          "height": 53
        }
      },
      "cell_type": "code",
      "source": [
        "# Create a local file to upload.\n",
        "with open('/tmp/to_upload.txt', 'w') as f:\n",
        "  f.write('my sample file')\n",
        "\n",
        "print('/tmp/to_upload.txt contains:')\n",
        "!cat /tmp/to_upload.txt"
      ],
      "execution_count": 0,
      "outputs": [
        {
          "output_type": "stream",
          "text": [
            "/tmp/to_upload.txt contains:\n",
            "my sample file"
          ],
          "name": "stdout"
        }
      ]
    },
    {
      "metadata": {
        "id": "BCiCo3v9fwch",
        "colab_type": "text"
      },
      "cell_type": "markdown",
      "source": [
        "Next, we'll upload the file using the `gsutil` command, which is included by default on Colab backends."
      ]
    },
    {
      "metadata": {
        "id": "VYC5CyAbAtU7",
        "colab_type": "code",
        "colab": {}
      },
      "cell_type": "code",
      "source": [
        "# First, we need to set our project. Replace the assignment below\n",
        "# with your project ID.\n",
        "project_id = 'Your_project_ID_here'"
      ],
      "execution_count": 0,
      "outputs": []
    },
    {
      "metadata": {
        "id": "TpnuFITI6Tzu",
        "colab_type": "code",
        "outputId": "04f1dd6d-4d7e-4264-b37b-1e8f645d6d38",
        "colab": {
          "base_uri": "https://localhost:8080/",
          "height": 35
        }
      },
      "cell_type": "code",
      "source": [
        "!gcloud config set project {project_id}"
      ],
      "execution_count": 0,
      "outputs": [
        {
          "output_type": "stream",
          "text": [
            "Updated property [core/project].\r\n"
          ],
          "name": "stdout"
        }
      ]
    },
    {
      "metadata": {
        "id": "Bcpvh_R_6jKB",
        "colab_type": "code",
        "outputId": "e1c132b8-6a5c-46db-b1fa-f5768089890c",
        "colab": {
          "base_uri": "https://localhost:8080/",
          "height": 35
        }
      },
      "cell_type": "code",
      "source": [
        "import uuid\n",
        "\n",
        "# Make a unique bucket to which we'll upload the file.\n",
        "# (GCS buckets are part of a single global namespace.)\n",
        "bucket_name = 'colab-sample-bucket-' + str(uuid.uuid1())\n",
        "\n",
        "# Full reference: https://cloud.google.com/storage/docs/gsutil/commands/mb\n",
        "!gsutil mb gs://{bucket_name}"
      ],
      "execution_count": 0,
      "outputs": [
        {
          "output_type": "stream",
          "text": [
            "Creating gs://colab-sample-bucket-44971372-baaf-11e7-ae30-0242ac110002/...\r\n"
          ],
          "name": "stdout"
        }
      ]
    },
    {
      "metadata": {
        "id": "L5cMl7XV65be",
        "colab_type": "code",
        "outputId": "bb51e51d-7f5f-4e2b-935c-203b8d314115",
        "colab": {
          "base_uri": "https://localhost:8080/",
          "height": 92
        }
      },
      "cell_type": "code",
      "source": [
        "# Copy the file to our new bucket.\n",
        "# Full reference: https://cloud.google.com/storage/docs/gsutil/commands/cp\n",
        "!gsutil cp /tmp/to_upload.txt gs://{bucket_name}/"
      ],
      "execution_count": 0,
      "outputs": [
        {
          "output_type": "stream",
          "text": [
            "Copying file:///tmp/to_upload.txt [Content-Type=text/plain]...\n",
            "/ [1 files][   14.0 B/   14.0 B]                                                \n",
            "Operation completed over 1 objects/14.0 B.                                       \n"
          ],
          "name": "stdout"
        }
      ]
    },
    {
      "metadata": {
        "id": "pJGU6gX-7M-N",
        "colab_type": "code",
        "outputId": "38db2bd3-0879-4a2e-8f41-c9495ba570a9",
        "colab": {
          "base_uri": "https://localhost:8080/",
          "height": 35
        }
      },
      "cell_type": "code",
      "source": [
        "# Finally, dump the contents of our newly copied file to make sure everything worked.\n",
        "!gsutil cat gs://{bucket_name}/to_upload.txt"
      ],
      "execution_count": 0,
      "outputs": [
        {
          "output_type": "stream",
          "text": [
            "my sample file"
          ],
          "name": "stdout"
        }
      ]
    },
    {
      "metadata": {
        "id": "0ENMqxq25szn",
        "colab_type": "text"
      },
      "cell_type": "markdown",
      "source": [
        "### Using Python"
      ]
    },
    {
      "metadata": {
        "id": "YnN-iG9y56V-",
        "colab_type": "text"
      },
      "cell_type": "markdown",
      "source": [
        "This section demonstrates how to upload files using the native Python API rather than `gsutil`.\n",
        "\n",
        "This snippet is based on [a larger example](https://github.com/GoogleCloudPlatform/storage-file-transfer-json-python/blob/master/chunked_transfer.py) with additional uses of the API."
      ]
    },
    {
      "metadata": {
        "id": "YsXBVQqkArHD",
        "colab_type": "code",
        "colab": {}
      },
      "cell_type": "code",
      "source": [
        "# The first step is to create a bucket in your cloud project.\n",
        "#\n",
        "# Replace the assignment below with your cloud project ID.\n",
        "#\n",
        "# For details on cloud projects, see:\n",
        "# https://cloud.google.com/resource-manager/docs/creating-managing-projects\n",
        "project_id = 'Your_project_ID_here'"
      ],
      "execution_count": 0,
      "outputs": []
    },
    {
      "metadata": {
        "id": "YFVbF4cdhd9Y",
        "colab_type": "code",
        "outputId": "ffa2a4ec-ee02-4fc2-8ed4-a4d73d04e6be",
        "colab": {
          "base_uri": "https://localhost:8080/",
          "height": 35
        }
      },
      "cell_type": "code",
      "source": [
        "# Authenticate to GCS.\n",
        "from google.colab import auth\n",
        "auth.authenticate_user()\n",
        "\n",
        "# Create the service client.\n",
        "from googleapiclient.discovery import build\n",
        "gcs_service = build('storage', 'v1')\n",
        "\n",
        "# Generate a random bucket name to which we'll upload the file.\n",
        "import uuid\n",
        "bucket_name = 'colab-sample-bucket' + str(uuid.uuid1())\n",
        "\n",
        "body = {\n",
        "  'name': bucket_name,\n",
        "  # For a full list of locations, see:\n",
        "  # https://cloud.google.com/storage/docs/bucket-locations\n",
        "  'location': 'us',\n",
        "}\n",
        "gcs_service.buckets().insert(project=project_id, body=body).execute()\n",
        "print('Done')"
      ],
      "execution_count": 0,
      "outputs": [
        {
          "output_type": "stream",
          "text": [
            "Done\n"
          ],
          "name": "stdout"
        }
      ]
    },
    {
      "metadata": {
        "id": "ppkrR7p4mx_P",
        "colab_type": "text"
      },
      "cell_type": "markdown",
      "source": [
        "The cell below uploads the file to our newly created bucket."
      ]
    },
    {
      "metadata": {
        "id": "cFAq-F2af5TJ",
        "colab_type": "code",
        "outputId": "d07f7059-5767-4d58-ac71-e457a76e8c07",
        "colab": {
          "base_uri": "https://localhost:8080/",
          "height": 35
        }
      },
      "cell_type": "code",
      "source": [
        "from googleapiclient.http import MediaFileUpload\n",
        "\n",
        "media = MediaFileUpload('/tmp/to_upload.txt', \n",
        "                        mimetype='text/plain',\n",
        "                        resumable=True)\n",
        "\n",
        "request = gcs_service.objects().insert(bucket=bucket_name, \n",
        "                                       name='to_upload.txt',\n",
        "                                       media_body=media)\n",
        "\n",
        "response = None\n",
        "while response is None:\n",
        "  # _ is a placeholder for a progress object that we ignore.\n",
        "  # (Our file is small, so we skip reporting progress.)\n",
        "  _, response = request.next_chunk()\n",
        "\n",
        "print('Upload complete')"
      ],
      "execution_count": 0,
      "outputs": [
        {
          "output_type": "stream",
          "text": [
            "Upload complete\n"
          ],
          "name": "stdout"
        }
      ]
    },
    {
      "metadata": {
        "id": "cyqTizOtnZEf",
        "colab_type": "text"
      },
      "cell_type": "markdown",
      "source": [
        "Once the upload has finished, the data will appear in the cloud console storage browser for your project:\n",
        "\n",
        "https://console.cloud.google.com/storage/browser?project=YOUR_PROJECT_ID_HERE"
      ]
    },
    {
      "metadata": {
        "id": "Q2CWQGIghDux",
        "colab_type": "text"
      },
      "cell_type": "markdown",
      "source": [
        "## Downloading a file from GCS to Python\n",
        "\n",
        "Next, we'll download the file we just uploaded in the example above. It's as simple as reversing the order in the `gsutil cp` command."
      ]
    },
    {
      "metadata": {
        "id": "lPdTf-6O73ll",
        "colab_type": "code",
        "outputId": "a6da299e-00ff-42a7-f845-9a93a4ccce61",
        "colab": {
          "base_uri": "https://localhost:8080/",
          "height": 110
        }
      },
      "cell_type": "code",
      "source": [
        "# Download the file.\n",
        "!gsutil cp gs://{bucket_name}/to_upload.txt /tmp/gsutil_download.txt\n",
        "  \n",
        "# Print the result to make sure the transfer worked.\n",
        "!cat /tmp/gsutil_download.txt"
      ],
      "execution_count": 0,
      "outputs": [
        {
          "output_type": "stream",
          "text": [
            "Copying gs://colab-sample-bucket483f20dc-baaf-11e7-ae30-0242ac110002/to_upload.txt...\n",
            "/ [1 files][   14.0 B/   14.0 B]                                                \n",
            "Operation completed over 1 objects/14.0 B.                                       \n",
            "my sample file"
          ],
          "name": "stdout"
        }
      ]
    },
    {
      "metadata": {
        "id": "s6nDq8Nk7aPN",
        "colab_type": "text"
      },
      "cell_type": "markdown",
      "source": [
        "### Using Python"
      ]
    },
    {
      "metadata": {
        "id": "P6aWjfTv7bit",
        "colab_type": "text"
      },
      "cell_type": "markdown",
      "source": [
        "We repeat the download example above using the native Python API."
      ]
    },
    {
      "metadata": {
        "id": "z1_FuDjAozF1",
        "colab_type": "code",
        "outputId": "ab14cf25-7b51-41c9-d88c-9a94f5c79dfc",
        "colab": {
          "base_uri": "https://localhost:8080/",
          "height": 35
        }
      },
      "cell_type": "code",
      "source": [
        "# Authenticate to GCS.\n",
        "from google.colab import auth\n",
        "auth.authenticate_user()\n",
        "\n",
        "# Create the service client.\n",
        "from googleapiclient.discovery import build\n",
        "gcs_service = build('storage', 'v1')\n",
        "\n",
        "from apiclient.http import MediaIoBaseDownload\n",
        "\n",
        "with open('/tmp/downloaded_from_gcs.txt', 'wb') as f:\n",
        "  request = gcs_service.objects().get_media(bucket=bucket_name,\n",
        "                                            object='to_upload.txt')\n",
        "  media = MediaIoBaseDownload(f, request)\n",
        "\n",
        "  done = False\n",
        "  while not done:\n",
        "    # _ is a placeholder for a progress object that we ignore.\n",
        "    # (Our file is small, so we skip reporting progress.)\n",
        "    _, done = media.next_chunk()\n",
        "\n",
        "print('Download complete')"
      ],
      "execution_count": 0,
      "outputs": [
        {
          "output_type": "stream",
          "text": [
            "Download complete\n"
          ],
          "name": "stdout"
        }
      ]
    },
    {
      "metadata": {
        "id": "DxLyhaiBpAGX",
        "colab_type": "code",
        "colab": {}
      },
      "cell_type": "code",
      "source": [
        "# Inspect the file we downloaded to /tmp\n",
        "!cat /tmp/downloaded_from_gcs.txt"
      ],
      "execution_count": 0,
      "outputs": []
    }
  ]
}